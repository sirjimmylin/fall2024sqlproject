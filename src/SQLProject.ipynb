{
 "cells": [
  {
   "cell_type": "markdown",
   "metadata": {},
   "source": [
    "# Data 1050 SQL Project"
   ]
  },
  {
   "cell_type": "markdown",
   "metadata": {},
   "source": [
    "## Create Database"
   ]
  },
  {
   "cell_type": "code",
   "execution_count": 255,
   "metadata": {},
   "outputs": [
    {
     "name": "stdout",
     "output_type": "stream",
     "text": [
      "Requirement already satisfied: mysql-connector-python in /opt/anaconda3/lib/python3.12/site-packages (9.0.0)\n",
      "Note: you may need to restart the kernel to use updated packages.\n"
     ]
    }
   ],
   "source": [
    "pip install mysql-connector-python # type: ignore"
   ]
  },
  {
   "cell_type": "code",
   "execution_count": 256,
   "metadata": {},
   "outputs": [
    {
     "name": "stdout",
     "output_type": "stream",
     "text": [
      "<mysql.connector.connection_cext.CMySQLConnection object at 0x126758980>\n",
      "CONNECTION SUCCESSFUL\n"
     ]
    }
   ],
   "source": [
    "import mysql.connector # type: ignore\n",
    " \n",
    "mydb = mysql.connector.connect(\n",
    "  host=\"localhost\",\n",
    "  user=\"root\",\n",
    "  password= \"7@u*sqJX\"   #REPLACE THIS WITH THE PASSWORD YOU SET\n",
    ")\n",
    " \n",
    "print(mydb)\n",
    " \n",
    "if mydb.is_connected():\n",
    "    print(\"CONNECTION SUCCESSFUL\")"
   ]
  },
  {
   "cell_type": "code",
   "execution_count": 257,
   "metadata": {},
   "outputs": [],
   "source": [
    "#create a database\n",
    "mycursor = mydb.cursor()\n",
    "mycursor.execute(\"DROP DATABASE IF EXISTS data1050SQLProject\")\n",
    "mycursor.execute(\"CREATE DATABASE data1050SQLProject\")"
   ]
  },
  {
   "cell_type": "code",
   "execution_count": 258,
   "metadata": {},
   "outputs": [
    {
     "name": "stdout",
     "output_type": "stream",
     "text": [
      "('data1050f24',)\n",
      "('data1050SQLProject',)\n",
      "('information_schema',)\n",
      "('mysql',)\n",
      "('performance_schema',)\n",
      "('sys',)\n"
     ]
    }
   ],
   "source": [
    "mycursor = mydb.cursor()\n",
    "mycursor.execute(\"SHOW DATABASES\")\n",
    "\n",
    "for x in mycursor:\n",
    "  print(x)"
   ]
  },
  {
   "cell_type": "markdown",
   "metadata": {},
   "source": [
    "### Connecting to a database and showing tables"
   ]
  },
  {
   "cell_type": "code",
   "execution_count": 259,
   "metadata": {},
   "outputs": [],
   "source": [
    "#connect to a specific database\n",
    "mydb = mysql.connector.connect(\n",
    "  host=\"localhost\",\n",
    "  user=\"root\",\n",
    "  password= \"7@u*sqJX\", #REPLACE THIS WITH YOUR PASSWORD \n",
    "  database = \"data1050SQLProject\" #connecting to testDatabase\n",
    ")"
   ]
  },
  {
   "cell_type": "code",
   "execution_count": 260,
   "metadata": {},
   "outputs": [],
   "source": [
    "mycursor = mydb.cursor()\n",
    "\n",
    "mycursor.execute(\"SHOW TABLES\")\n",
    "\n",
    "for x in mycursor:\n",
    "  print(x)"
   ]
  },
  {
   "cell_type": "code",
   "execution_count": 261,
   "metadata": {},
   "outputs": [],
   "source": [
    "import pandas as pd # type: ignore"
   ]
  },
  {
   "cell_type": "code",
   "execution_count": 262,
   "metadata": {},
   "outputs": [
    {
     "name": "stdout",
     "output_type": "stream",
     "text": [
      "Requirement already satisfied: fsspec in /opt/anaconda3/lib/python3.12/site-packages (2024.6.1)\n",
      "Note: you may need to restart the kernel to use updated packages.\n"
     ]
    }
   ],
   "source": [
    "pip install fsspec # type: ignore"
   ]
  },
  {
   "cell_type": "markdown",
   "metadata": {},
   "source": [
    "### Add Tables"
   ]
  },
  {
   "cell_type": "code",
   "execution_count": 263,
   "metadata": {},
   "outputs": [],
   "source": [
    "#create a table\n",
    "mycursor = mydb.cursor()\n",
    "mycursor.execute(\"DROP TABLE IF EXISTS data1050SQLProject.physicians\")\n",
    "mycursor.execute('''CREATE TABLE data1050SQLProject.physicians ( \n",
    "                    ssn VARCHAR(128) PRIMARY KEY, \n",
    "                    name VARCHAR(128), \n",
    "                    primary_specialty VARCHAR(128),\n",
    "                    experience_years INT);''')"
   ]
  },
  {
   "cell_type": "code",
   "execution_count": 264,
   "metadata": {},
   "outputs": [],
   "source": [
    "#create a table\n",
    "mycursor = mydb.cursor()\n",
    "mycursor.execute(\"DROP TABLE IF EXISTS data1050SQLProject.patients\")\n",
    "mycursor.execute('''CREATE TABLE data1050SQLProject.patients ( \n",
    "                    ssn VARCHAR(128) PRIMARY KEY, \n",
    "                    name VARCHAR(128), \n",
    "                    address VARCHAR(128),\n",
    "                    birth_date VARCHAR(128),\n",
    "                    physician_id VARCHAR(128),\n",
    "                    foreign key(physician_id) references data1050SQLProject.physicians(ssn));''')"
   ]
  },
  {
   "cell_type": "code",
   "execution_count": 265,
   "metadata": {},
   "outputs": [],
   "source": [
    "#create a table\n",
    "mycursor = mydb.cursor()\n",
    "mycursor.execute(\"DROP TABLE IF EXISTS data1050SQLProject.pharmacies\")\n",
    "mycursor.execute('''CREATE TABLE data1050SQLProject.pharmacies ( \n",
    "                    id INT PRIMARY KEY, \n",
    "                    name VARCHAR(128), \n",
    "                    address VARCHAR(128),\n",
    "                    phone VARCHAR(128));''')"
   ]
  },
  {
   "cell_type": "code",
   "execution_count": 266,
   "metadata": {},
   "outputs": [],
   "source": [
    "#create a table\n",
    "mycursor = mydb.cursor()\n",
    "mycursor.execute(\"DROP TABLE IF EXISTS data1050SQLProject.drugs\")\n",
    "mycursor.execute('''CREATE TABLE data1050SQLProject.drugs ( \n",
    "                    id VARCHAR(128), \n",
    "                    name VARCHAR(128) PRIMARY KEY);''')"
   ]
  },
  {
   "cell_type": "code",
   "execution_count": 267,
   "metadata": {},
   "outputs": [],
   "source": [
    "#create a table\n",
    "mycursor = mydb.cursor()\n",
    "mycursor.execute(\"DROP TABLE IF EXISTS data1050SQLProject.prescriptions\")\n",
    "mycursor.execute('''CREATE TABLE data1050SQLProject.prescriptions ( \n",
    "                    id INT PRIMARY KEY, \n",
    "                    patient_id VARCHAR(128), \n",
    "                    physician_id VARCHAR(128),\n",
    "                    drug_name VARCHAR(128),\n",
    "                    date VARCHAR(128),\n",
    "                    quantity INT,\n",
    "                    INDEX(patient_id,drug_name),\n",
    "                    foreign key(patient_id) references data1050SQLProject.patients(ssn),\n",
    "                    foreign key(physician_id) references data1050SQLProject.physicians(ssn),\n",
    "                    foreign key(drug_name) references data1050SQLProject.drugs(name));''')\n"
   ]
  },
  {
   "cell_type": "code",
   "execution_count": 268,
   "metadata": {},
   "outputs": [],
   "source": [
    "#create a table\n",
    "mycursor = mydb.cursor()\n",
    "mycursor.execute(\"DROP TABLE IF EXISTS data1050SQLProject.adverse_interactions\")\n",
    "mycursor.execute('''CREATE TABLE data1050SQLProject.adverse_interactions ( \n",
    "                    drug_name VARCHAR(128), \n",
    "                    drug_name_2 VARCHAR(128), \n",
    "                    PRIMARY KEY (drug_name,drug_name_2),\n",
    "                    foreign key(drug_name) references data1050SQLProject.drugs(name));''')"
   ]
  },
  {
   "cell_type": "code",
   "execution_count": 269,
   "metadata": {},
   "outputs": [],
   "source": [
    "#create a table\n",
    "mycursor = mydb.cursor()\n",
    "mycursor.execute(\"DROP TABLE IF EXISTS data1050SQLProject.alerts\")\n",
    "mycursor.execute('''CREATE TABLE data1050SQLProject.alerts ( \n",
    "                    patient_id VARCHAR(128), \n",
    "                    physician_id VARCHAR(128), \n",
    "                    alert_date VARCHAR(128),\n",
    "                    drug1 VARCHAR(128),\n",
    "                    drug2 VARCHAR(128),\n",
    "                    PRIMARY KEY (patient_id,physician_id,alert_date,drug1,drug2),\n",
    "                    foreign key(patient_id) references data1050SQLProject.patients(ssn),\n",
    "                    foreign key(physician_id) references data1050SQLProject.physicians(ssn),\n",
    "                    foreign key(patient_id,drug1) references data1050SQLProject.prescriptions(patient_id,drug_name),\n",
    "                    foreign key(patient_id,drug2) references data1050SQLProject.prescriptions(patient_id,drug_name)\n",
    "                 );''')"
   ]
  },
  {
   "cell_type": "code",
   "execution_count": 270,
   "metadata": {},
   "outputs": [],
   "source": [
    "mycursor = mydb.cursor()\n",
    "mycursor.execute(\"DROP TABLE IF EXISTS data1050SQLProject.pharmacy_fills\")\n",
    "mycursor.execute('''CREATE TABLE data1050SQLProject.pharmacy_fills ( \n",
    "                    pharmacy_id INT,\n",
    "                    prescription_id INT,  \n",
    "                    date VARCHAR(128),\n",
    "                    cost DECIMAL(5,2),\n",
    "                    PRIMARY KEY (prescription_id,pharmacy_id),\n",
    "                    foreign key(prescription_id) references data1050SQLProject.prescriptions(id),\n",
    "                    foreign key(pharmacy_id) references data1050SQLProject.pharmacies(id));''')"
   ]
  },
  {
   "cell_type": "code",
   "execution_count": 271,
   "metadata": {},
   "outputs": [],
   "source": [
    "mycursor = mydb.cursor()\n",
    "mycursor.execute(\"DROP TABLE IF EXISTS data1050SQLProject.companies\")\n",
    "mycursor.execute('''CREATE TABLE data1050SQLProject.companies ( \n",
    "                    id INT PRIMARY KEY, \n",
    "                    name VARCHAR(128), \n",
    "                    address VARCHAR(128),\n",
    "                    contact_phone VARCHAR(128),\n",
    "                    contact_name VARCHAR(128));''')"
   ]
  },
  {
   "cell_type": "code",
   "execution_count": 272,
   "metadata": {},
   "outputs": [],
   "source": [
    "mycursor = mydb.cursor()\n",
    "mycursor.execute(\"DROP TABLE IF EXISTS data1050SQLProject.contracts\")\n",
    "mycursor.execute('''CREATE TABLE data1050SQLProject.contracts ( \n",
    "                    id INT PRIMARY KEY, \n",
    "                    drug_name VARCHAR(128),\n",
    "                    dosage INT,\n",
    "                    pharmacy_id INT,\n",
    "                    company_id INT,\n",
    "                    quantity INT,\n",
    "                    date VARCHAR(128),\n",
    "                    price VARCHAR(128),\n",
    "                    foreign key(company_id) references data1050SQLProject.companies(id),\n",
    "                    foreign key(pharmacy_id) references data1050SQLProject.pharmacies(id),\n",
    "                    foreign key(drug_name) references data1050SQLProject.drugs(name));''')"
   ]
  },
  {
   "cell_type": "code",
   "execution_count": 273,
   "metadata": {},
   "outputs": [
    {
     "name": "stdout",
     "output_type": "stream",
     "text": [
      "('adverse_interactions',)\n",
      "('alerts',)\n",
      "('companies',)\n",
      "('contracts',)\n",
      "('drugs',)\n",
      "('patients',)\n",
      "('pharmacies',)\n",
      "('pharmacy_fills',)\n",
      "('physicians',)\n",
      "('prescriptions',)\n"
     ]
    }
   ],
   "source": [
    "mycursor = mydb.cursor()\n",
    "\n",
    "mycursor.execute(\"SHOW TABLES\")\n",
    "\n",
    "for x in mycursor:\n",
    "  print(x)"
   ]
  },
  {
   "cell_type": "markdown",
   "metadata": {},
   "source": [
    "### Add Data to Tables"
   ]
  },
  {
   "cell_type": "code",
   "execution_count": 274,
   "metadata": {},
   "outputs": [
    {
     "data": {
      "text/html": [
       "<div>\n",
       "<style scoped>\n",
       "    .dataframe tbody tr th:only-of-type {\n",
       "        vertical-align: middle;\n",
       "    }\n",
       "\n",
       "    .dataframe tbody tr th {\n",
       "        vertical-align: top;\n",
       "    }\n",
       "\n",
       "    .dataframe thead th {\n",
       "        text-align: right;\n",
       "    }\n",
       "</style>\n",
       "<table border=\"1\" class=\"dataframe\">\n",
       "  <thead>\n",
       "    <tr style=\"text-align: right;\">\n",
       "      <th></th>\n",
       "      <th>SSN</th>\n",
       "      <th>name</th>\n",
       "      <th>primary_specialty</th>\n",
       "      <th>experience_years</th>\n",
       "    </tr>\n",
       "  </thead>\n",
       "  <tbody>\n",
       "    <tr>\n",
       "      <th>0</th>\n",
       "      <td>614-57-6885</td>\n",
       "      <td>Srinivasan</td>\n",
       "      <td>Cardiology</td>\n",
       "      <td>4</td>\n",
       "    </tr>\n",
       "    <tr>\n",
       "      <th>1</th>\n",
       "      <td>702-16-8749</td>\n",
       "      <td>Wu</td>\n",
       "      <td>Dermatology</td>\n",
       "      <td>10</td>\n",
       "    </tr>\n",
       "    <tr>\n",
       "      <th>2</th>\n",
       "      <td>571-13-9020</td>\n",
       "      <td>Mozart</td>\n",
       "      <td>Cardiology</td>\n",
       "      <td>0</td>\n",
       "    </tr>\n",
       "    <tr>\n",
       "      <th>3</th>\n",
       "      <td>718-27-0905</td>\n",
       "      <td>Einstein</td>\n",
       "      <td>Psychiatry</td>\n",
       "      <td>29</td>\n",
       "    </tr>\n",
       "    <tr>\n",
       "      <th>4</th>\n",
       "      <td>230-12-3219</td>\n",
       "      <td>El Said</td>\n",
       "      <td>Psychiatry</td>\n",
       "      <td>12</td>\n",
       "    </tr>\n",
       "  </tbody>\n",
       "</table>\n",
       "</div>"
      ],
      "text/plain": [
       "           SSN        name primary_specialty  experience_years\n",
       "0  614-57-6885  Srinivasan        Cardiology                 4\n",
       "1  702-16-8749          Wu       Dermatology                10\n",
       "2  571-13-9020      Mozart        Cardiology                 0\n",
       "3  718-27-0905    Einstein        Psychiatry                29\n",
       "4  230-12-3219     El Said        Psychiatry                12"
      ]
     },
     "execution_count": 274,
     "metadata": {},
     "output_type": "execute_result"
    }
   ],
   "source": [
    "#point the path to where in your hard drive you have stored the file physicians.csv\n",
    "physicians_df = pd.read_csv(\"physicians.csv\")\n",
    "physicians_df.head()"
   ]
  },
  {
   "cell_type": "code",
   "execution_count": 275,
   "metadata": {},
   "outputs": [
    {
     "data": {
      "text/plain": [
       "SSN                  object\n",
       "name                 object\n",
       "primary_specialty    object\n",
       "experience_years      int64\n",
       "dtype: object"
      ]
     },
     "execution_count": 275,
     "metadata": {},
     "output_type": "execute_result"
    }
   ],
   "source": [
    "physicians_df.dtypes"
   ]
  },
  {
   "cell_type": "code",
   "execution_count": 276,
   "metadata": {},
   "outputs": [
    {
     "name": "stdout",
     "output_type": "stream",
     "text": [
      "Record inserted\n",
      "Record inserted\n",
      "Record inserted\n",
      "Record inserted\n",
      "Record inserted\n",
      "Record inserted\n",
      "Record inserted\n",
      "Record inserted\n",
      "Record inserted\n",
      "Record inserted\n",
      "Record inserted\n",
      "Record inserted\n"
     ]
    }
   ],
   "source": [
    "for i,row in physicians_df.iterrows():\n",
    "            sql = \"INSERT INTO physicians VALUES (%s,%s,%s,%s)\"\n",
    "            mycursor.execute(sql, tuple(row))\n",
    "            print(\"Record inserted\")\n",
    "            # the connection is not autocommitted by default, so we \n",
    "            # must commit to save our changes\n",
    "            mydb.commit()"
   ]
  },
  {
   "cell_type": "code",
   "execution_count": 277,
   "metadata": {},
   "outputs": [],
   "source": [
    "query = ''' SELECT * from physicians'''\n",
    "mycursor.execute(query)"
   ]
  },
  {
   "cell_type": "code",
   "execution_count": 278,
   "metadata": {},
   "outputs": [
    {
     "name": "stdout",
     "output_type": "stream",
     "text": [
      "('118-66-5958', 'Katz', 'Orthopedics', 3)\n",
      "('156-28-1945', 'Singh', 'Orthopedics', 25)\n",
      "('163-50-5535', 'Gold', 'Neurology', 8)\n",
      "('230-12-3219', 'El Said', 'Psychiatry', 12)\n",
      "('357-93-5814', 'Califieri', 'Cardiology', 21)\n",
      "('460-35-6754', 'Kim', 'Orthopedics', 2)\n",
      "('510-55-9776', 'Brandt', 'Psychiatry', 25)\n",
      "('522-86-5827', 'Crick', 'Neurology', 0)\n",
      "('571-13-9020', 'Mozart', 'Cardiology', 0)\n",
      "('614-57-6885', 'Srinivasan', 'Cardiology', 4)\n",
      "('702-16-8749', 'Wu', 'Dermatology', 10)\n",
      "('718-27-0905', 'Einstein', 'Psychiatry', 29)\n"
     ]
    }
   ],
   "source": [
    "for x in mycursor:\n",
    "    print(x)"
   ]
  },
  {
   "cell_type": "code",
   "execution_count": 279,
   "metadata": {},
   "outputs": [
    {
     "data": {
      "text/html": [
       "<div>\n",
       "<style scoped>\n",
       "    .dataframe tbody tr th:only-of-type {\n",
       "        vertical-align: middle;\n",
       "    }\n",
       "\n",
       "    .dataframe tbody tr th {\n",
       "        vertical-align: top;\n",
       "    }\n",
       "\n",
       "    .dataframe thead th {\n",
       "        text-align: right;\n",
       "    }\n",
       "</style>\n",
       "<table border=\"1\" class=\"dataframe\">\n",
       "  <thead>\n",
       "    <tr style=\"text-align: right;\">\n",
       "      <th></th>\n",
       "      <th>ssn</th>\n",
       "      <th>name</th>\n",
       "      <th>address</th>\n",
       "      <th>birthdate</th>\n",
       "      <th>physician_id</th>\n",
       "    </tr>\n",
       "  </thead>\n",
       "  <tbody>\n",
       "    <tr>\n",
       "      <th>0</th>\n",
       "      <td>478-34-0781</td>\n",
       "      <td>Florance Saiz</td>\n",
       "      <td>7 Fair Oaks Place</td>\n",
       "      <td>1988-11-03T23:25:38Z</td>\n",
       "      <td>614-57-6885</td>\n",
       "    </tr>\n",
       "    <tr>\n",
       "      <th>1</th>\n",
       "      <td>885-94-4721</td>\n",
       "      <td>Merry Di Pietro</td>\n",
       "      <td>1 Old Shore Court</td>\n",
       "      <td>1991-02-07T22:00:41Z</td>\n",
       "      <td>702-16-8749</td>\n",
       "    </tr>\n",
       "    <tr>\n",
       "      <th>2</th>\n",
       "      <td>777-39-3296</td>\n",
       "      <td>Myron Cottem</td>\n",
       "      <td>75875 Fulton Crossing</td>\n",
       "      <td>1986-02-20T04:43:29Z</td>\n",
       "      <td>718-27-0905</td>\n",
       "    </tr>\n",
       "    <tr>\n",
       "      <th>3</th>\n",
       "      <td>227-08-7452</td>\n",
       "      <td>Bearnard Remer</td>\n",
       "      <td>18669 Heffernan Point</td>\n",
       "      <td>2008-01-09T05:34:30Z</td>\n",
       "      <td>230-12-3219</td>\n",
       "    </tr>\n",
       "    <tr>\n",
       "      <th>4</th>\n",
       "      <td>805-15-2755</td>\n",
       "      <td>Roxana Worster</td>\n",
       "      <td>54 Hudson Junction</td>\n",
       "      <td>1982-11-12T18:11:55Z</td>\n",
       "      <td>163-50-5535</td>\n",
       "    </tr>\n",
       "  </tbody>\n",
       "</table>\n",
       "</div>"
      ],
      "text/plain": [
       "           ssn             name                address             birthdate  \\\n",
       "0  478-34-0781    Florance Saiz      7 Fair Oaks Place  1988-11-03T23:25:38Z   \n",
       "1  885-94-4721  Merry Di Pietro      1 Old Shore Court  1991-02-07T22:00:41Z   \n",
       "2  777-39-3296     Myron Cottem  75875 Fulton Crossing  1986-02-20T04:43:29Z   \n",
       "3  227-08-7452   Bearnard Remer  18669 Heffernan Point  2008-01-09T05:34:30Z   \n",
       "4  805-15-2755   Roxana Worster     54 Hudson Junction  1982-11-12T18:11:55Z   \n",
       "\n",
       "  physician_id  \n",
       "0  614-57-6885  \n",
       "1  702-16-8749  \n",
       "2  718-27-0905  \n",
       "3  230-12-3219  \n",
       "4  163-50-5535  "
      ]
     },
     "execution_count": 279,
     "metadata": {},
     "output_type": "execute_result"
    }
   ],
   "source": [
    "#point the path to where in your hard drive you have stored the file patients.csv\n",
    "data = pd.read_csv(\"patients.csv\")\n",
    "data.head()"
   ]
  },
  {
   "cell_type": "code",
   "execution_count": 280,
   "metadata": {},
   "outputs": [
    {
     "data": {
      "text/plain": [
       "ssn             object\n",
       "name            object\n",
       "address         object\n",
       "birthdate       object\n",
       "physician_id    object\n",
       "dtype: object"
      ]
     },
     "execution_count": 280,
     "metadata": {},
     "output_type": "execute_result"
    }
   ],
   "source": [
    "data.dtypes"
   ]
  },
  {
   "cell_type": "code",
   "execution_count": 281,
   "metadata": {},
   "outputs": [],
   "source": [
    "query = \"SELECT * FROM physicians WHERE ssn = '614-57-6885';\"\n",
    "mycursor.execute(query)\n"
   ]
  },
  {
   "cell_type": "code",
   "execution_count": 282,
   "metadata": {},
   "outputs": [
    {
     "name": "stdout",
     "output_type": "stream",
     "text": [
      "('614-57-6885', 'Srinivasan', 'Cardiology', 4)\n"
     ]
    }
   ],
   "source": [
    "for x in mycursor:\n",
    "    print(x)"
   ]
  },
  {
   "cell_type": "code",
   "execution_count": 283,
   "metadata": {},
   "outputs": [
    {
     "name": "stdout",
     "output_type": "stream",
     "text": [
      "Record inserted\n",
      "Record inserted\n",
      "Record inserted\n",
      "Record inserted\n",
      "Record inserted\n",
      "Record inserted\n",
      "Record inserted\n",
      "Record inserted\n",
      "Record inserted\n",
      "Record inserted\n",
      "Record inserted\n",
      "Record inserted\n"
     ]
    }
   ],
   "source": [
    "for i,row in data.iterrows():\n",
    "            sql = \"INSERT INTO patients VALUES (%s,%s,%s,%s,%s)\"\n",
    "            mycursor.execute(sql, tuple(row))\n",
    "            print(\"Record inserted\")\n",
    "            # the connection is not autocommitted by default, so we \n",
    "            # must commit to save our changes\n",
    "            mydb.commit()"
   ]
  },
  {
   "cell_type": "code",
   "execution_count": 284,
   "metadata": {},
   "outputs": [],
   "source": [
    "query = \"SELECT * from patients\"\n",
    "mycursor.execute(query)"
   ]
  },
  {
   "cell_type": "code",
   "execution_count": 285,
   "metadata": {},
   "outputs": [
    {
     "name": "stdout",
     "output_type": "stream",
     "text": [
      "('192-33-2887', 'Jacinda Stowe', '8 Colorado Alley', '1970-04-15T00:24:26Z', '357-93-5814')\n",
      "('227-08-7452', 'Bearnard Remer', '18669 Heffernan Point', '2008-01-09T05:34:30Z', '230-12-3219')\n",
      "('303-13-5928', 'Krystyna Luckie', '54106 Barnett Plaza', '1950-02-11T12:20:13Z', '571-13-9020')\n",
      "('360-47-2098', 'Peter Lukasen', '552 Ryan Court', '1969-01-10T19:33:03Z', '522-86-5827')\n",
      "('478-34-0781', 'Florance Saiz', '7 Fair Oaks Place', '1988-11-03T23:25:38Z', '614-57-6885')\n",
      "('501-47-2038', 'Elvyn Rudinger', '48 Bowman Parkway', '2006-02-28T16:26:43Z', '156-28-1945')\n",
      "('631-75-6048', 'Avrom Messer', '5030 Garrison Center', '1929-02-04T06:34:10Z', '510-55-9776')\n",
      "('691-21-7304', 'Myrlene Yegoshin', '2 Sunnyside Court', '2001-06-03T23:02:52Z', '460-35-6754')\n",
      "('758-08-7274', 'Susanetta Petruska', '16276 Sutteridge Avenue', '1922-08-05T18:36:12Z', '118-66-5958')\n",
      "('777-39-3296', 'Myron Cottem', '75875 Fulton Crossing', '1986-02-20T04:43:29Z', '718-27-0905')\n",
      "('805-15-2755', 'Roxana Worster', '54 Hudson Junction', '1982-11-12T18:11:55Z', '163-50-5535')\n",
      "('885-94-4721', 'Merry Di Pietro', '1 Old Shore Court', '1991-02-07T22:00:41Z', '702-16-8749')\n"
     ]
    }
   ],
   "source": [
    "for x in mycursor:\n",
    "    print(x)"
   ]
  },
  {
   "cell_type": "code",
   "execution_count": 286,
   "metadata": {},
   "outputs": [
    {
     "data": {
      "text/html": [
       "<div>\n",
       "<style scoped>\n",
       "    .dataframe tbody tr th:only-of-type {\n",
       "        vertical-align: middle;\n",
       "    }\n",
       "\n",
       "    .dataframe tbody tr th {\n",
       "        vertical-align: top;\n",
       "    }\n",
       "\n",
       "    .dataframe thead th {\n",
       "        text-align: right;\n",
       "    }\n",
       "</style>\n",
       "<table border=\"1\" class=\"dataframe\">\n",
       "  <thead>\n",
       "    <tr style=\"text-align: right;\">\n",
       "      <th></th>\n",
       "      <th>id</th>\n",
       "      <th>name</th>\n",
       "      <th>address</th>\n",
       "      <th>phone</th>\n",
       "    </tr>\n",
       "  </thead>\n",
       "  <tbody>\n",
       "    <tr>\n",
       "      <th>0</th>\n",
       "      <td>1</td>\n",
       "      <td>Springfield Pharmacy</td>\n",
       "      <td>123 Main St,  Springfield,  IL 62701</td>\n",
       "      <td>(217) 555-1234</td>\n",
       "    </tr>\n",
       "    <tr>\n",
       "      <th>1</th>\n",
       "      <td>2</td>\n",
       "      <td>Peachtree Meds</td>\n",
       "      <td>456 Elm St,  Atlanta, GA 30303</td>\n",
       "      <td>(404) 555-5678</td>\n",
       "    </tr>\n",
       "    <tr>\n",
       "      <th>2</th>\n",
       "      <td>3</td>\n",
       "      <td>Lone Star Drugs</td>\n",
       "      <td>789 Oak St,  Dallas, TX 75201</td>\n",
       "      <td>(214) 555-9101</td>\n",
       "    </tr>\n",
       "    <tr>\n",
       "      <th>3</th>\n",
       "      <td>4</td>\n",
       "      <td>Mile High Meds</td>\n",
       "      <td>101 Pine St, Denver, CO80202</td>\n",
       "      <td>(303) 555-1121</td>\n",
       "    </tr>\n",
       "    <tr>\n",
       "      <th>4</th>\n",
       "      <td>5</td>\n",
       "      <td>Emerald City Pharmacy</td>\n",
       "      <td>121 Spruce St,  Seattle,  WA 98101</td>\n",
       "      <td>(206) 555-1314</td>\n",
       "    </tr>\n",
       "  </tbody>\n",
       "</table>\n",
       "</div>"
      ],
      "text/plain": [
       "   id                    name                                address  \\\n",
       "0   1    Springfield Pharmacy   123 Main St,  Springfield,  IL 62701   \n",
       "1   2          Peachtree Meds         456 Elm St,  Atlanta, GA 30303   \n",
       "2   3         Lone Star Drugs          789 Oak St,  Dallas, TX 75201   \n",
       "3   4          Mile High Meds           101 Pine St, Denver, CO80202   \n",
       "4   5   Emerald City Pharmacy     121 Spruce St,  Seattle,  WA 98101   \n",
       "\n",
       "             phone  \n",
       "0   (217) 555-1234  \n",
       "1   (404) 555-5678  \n",
       "2   (214) 555-9101  \n",
       "3   (303) 555-1121  \n",
       "4   (206) 555-1314  "
      ]
     },
     "execution_count": 286,
     "metadata": {},
     "output_type": "execute_result"
    }
   ],
   "source": [
    "#point the path to where in your hard drive you have stored the file pharmacies.csv\n",
    "data = pd.read_csv(\"pharmacies.csv\")\n",
    "data.head()"
   ]
  },
  {
   "cell_type": "code",
   "execution_count": 287,
   "metadata": {},
   "outputs": [
    {
     "data": {
      "text/plain": [
       "id           int64\n",
       " name       object\n",
       " address    object\n",
       "phone       object\n",
       "dtype: object"
      ]
     },
     "execution_count": 287,
     "metadata": {},
     "output_type": "execute_result"
    }
   ],
   "source": [
    "data.dtypes"
   ]
  },
  {
   "cell_type": "code",
   "execution_count": 288,
   "metadata": {},
   "outputs": [
    {
     "name": "stdout",
     "output_type": "stream",
     "text": [
      "Record inserted\n",
      "Record inserted\n",
      "Record inserted\n",
      "Record inserted\n",
      "Record inserted\n",
      "Record inserted\n",
      "Record inserted\n",
      "Record inserted\n",
      "Record inserted\n",
      "Record inserted\n",
      "Record inserted\n",
      "Record inserted\n",
      "Record inserted\n",
      "Record inserted\n",
      "Record inserted\n"
     ]
    }
   ],
   "source": [
    "for i,row in data.iterrows():\n",
    "            sql = \"INSERT INTO pharmacies VALUES (%s,%s,%s,%s)\"\n",
    "            mycursor.execute(sql, tuple(row))\n",
    "            print(\"Record inserted\")\n",
    "            # the connection is not autocommitted by default, so we \n",
    "            # must commit to save our changes\n",
    "            mydb.commit()"
   ]
  },
  {
   "cell_type": "code",
   "execution_count": 289,
   "metadata": {},
   "outputs": [],
   "source": [
    "query = \" SELECT * FROM pharmacies\"\n",
    "mycursor.execute(query)"
   ]
  },
  {
   "cell_type": "code",
   "execution_count": 290,
   "metadata": {},
   "outputs": [
    {
     "name": "stdout",
     "output_type": "stream",
     "text": [
      "(1, ' Springfield Pharmacy', ' 123 Main St,  Springfield,  IL 62701', ' (217) 555-1234')\n",
      "(2, ' Peachtree Meds', ' 456 Elm St,  Atlanta, GA 30303', ' (404) 555-5678')\n",
      "(3, ' Lone Star Drugs', ' 789 Oak St,  Dallas, TX 75201', ' (214) 555-9101')\n",
      "(4, ' Mile High Meds', ' 101 Pine St, Denver, CO80202', ' (303) 555-1121')\n",
      "(5, ' Emerald City Pharmacy', ' 121 Spruce St,  Seattle,  WA 98101', ' (206) 555-1314')\n",
      "(6, ' Golden Gate Drugs', ' 234 Market St, San Francisco, CA 94105', ' (415) 555-1515')\n",
      "(7, ' Sunshine Pharmacy', ' 345 Palm Ave, Miami, FL 33101', ' (305) 555-1616')\n",
      "(8, ' Liberty Meds', ' 567 Broadway St, New York, NY 10001', ' (212) 555-1717')\n",
      "(9, ' Lakeside Drugs', ' 678 Lake Rd,  Minneapolis, MN 55401', ' (612) 555-1818')\n",
      "(10, ' Desert Bloom Pharmacy', ' 890 Desert Blvd, Phoenix, AZ 85001', ' (602) 555-1919')\n",
      "(11, ' Bayside Pharmacy', ' 112 Harbor Dr, San Diego, CA 92101', ' (619) 555-2020')\n",
      "(12, ' Capital Meds', ' 345 Capitol St, Washington, DC 20001', ' (202) 555-2121')\n",
      "(13, ' Windy City Pharmacy', ' 567 Windy Ave, Chicago, IL 60601', ' (312) 555-2222')\n",
      "(14, ' Beantown Drugs', ' 890 Beacon St, Boston,  MA 02101', ' (617) 555-2323')\n",
      "(15, ' Gateway Meds', ' 123 Arch St, St. Louis, MO 63101', ' (314) 555-2424')\n"
     ]
    }
   ],
   "source": [
    "for x in mycursor:\n",
    "    print(x)"
   ]
  },
  {
   "cell_type": "code",
   "execution_count": 291,
   "metadata": {},
   "outputs": [
    {
     "data": {
      "text/html": [
       "<div>\n",
       "<style scoped>\n",
       "    .dataframe tbody tr th:only-of-type {\n",
       "        vertical-align: middle;\n",
       "    }\n",
       "\n",
       "    .dataframe tbody tr th {\n",
       "        vertical-align: top;\n",
       "    }\n",
       "\n",
       "    .dataframe thead th {\n",
       "        text-align: right;\n",
       "    }\n",
       "</style>\n",
       "<table border=\"1\" class=\"dataframe\">\n",
       "  <thead>\n",
       "    <tr style=\"text-align: right;\">\n",
       "      <th></th>\n",
       "      <th>drug_id</th>\n",
       "      <th>drug_name</th>\n",
       "    </tr>\n",
       "  </thead>\n",
       "  <tbody>\n",
       "    <tr>\n",
       "      <th>0</th>\n",
       "      <td>1</td>\n",
       "      <td>Primalovir</td>\n",
       "    </tr>\n",
       "    <tr>\n",
       "      <th>1</th>\n",
       "      <td>2</td>\n",
       "      <td>Olanzanafine</td>\n",
       "    </tr>\n",
       "    <tr>\n",
       "      <th>2</th>\n",
       "      <td>3</td>\n",
       "      <td>Avafoxin</td>\n",
       "    </tr>\n",
       "    <tr>\n",
       "      <th>3</th>\n",
       "      <td>4</td>\n",
       "      <td>Quixiposide</td>\n",
       "    </tr>\n",
       "    <tr>\n",
       "      <th>4</th>\n",
       "      <td>5</td>\n",
       "      <td>Cleotrana</td>\n",
       "    </tr>\n",
       "  </tbody>\n",
       "</table>\n",
       "</div>"
      ],
      "text/plain": [
       "   drug_id     drug_name\n",
       "0        1    Primalovir\n",
       "1        2  Olanzanafine\n",
       "2        3      Avafoxin\n",
       "3        4   Quixiposide\n",
       "4        5     Cleotrana"
      ]
     },
     "execution_count": 291,
     "metadata": {},
     "output_type": "execute_result"
    }
   ],
   "source": [
    "#point the path to where in your hard drive you have stored the file drugs.csv\n",
    "data = pd.read_csv(\"drugs.csv\")\n",
    "data.head()"
   ]
  },
  {
   "cell_type": "code",
   "execution_count": 292,
   "metadata": {},
   "outputs": [
    {
     "data": {
      "text/plain": [
       "drug_id       int64\n",
       "drug_name    object\n",
       "dtype: object"
      ]
     },
     "execution_count": 292,
     "metadata": {},
     "output_type": "execute_result"
    }
   ],
   "source": [
    "data.dtypes"
   ]
  },
  {
   "cell_type": "code",
   "execution_count": 293,
   "metadata": {},
   "outputs": [
    {
     "name": "stdout",
     "output_type": "stream",
     "text": [
      "Record inserted\n",
      "Record inserted\n",
      "Record inserted\n",
      "Record inserted\n",
      "Record inserted\n",
      "Record inserted\n",
      "Record inserted\n",
      "Record inserted\n",
      "Record inserted\n",
      "Record inserted\n"
     ]
    }
   ],
   "source": [
    "for i,row in data.iterrows():\n",
    "            sql = \"INSERT INTO drugs VALUES (%s,%s)\"\n",
    "            mycursor.execute(sql, tuple(row))\n",
    "            print(\"Record inserted\")\n",
    "            # the connection is not autocommitted by default, so we \n",
    "            # must commit to save our changes\n",
    "            mydb.commit()"
   ]
  },
  {
   "cell_type": "code",
   "execution_count": 294,
   "metadata": {},
   "outputs": [],
   "source": [
    "query = \"SELECT * FROM drugs\"\n",
    "mycursor.execute(query)"
   ]
  },
  {
   "cell_type": "code",
   "execution_count": 295,
   "metadata": {},
   "outputs": [
    {
     "name": "stdout",
     "output_type": "stream",
     "text": [
      "('9', 'Abnazole Toleluble')\n",
      "('3', 'Avafoxin')\n",
      "('5', 'Cleotrana')\n",
      "('10', 'Dantopex Quixilinum')\n",
      "('8', 'Divisporine Acetaclotide')\n",
      "('7', 'Glucozepam Amcipentin')\n",
      "('6', 'Kanulin')\n",
      "('2', 'Olanzanafine')\n",
      "('1', 'Primalovir')\n",
      "('4', 'Quixiposide')\n"
     ]
    }
   ],
   "source": [
    "for x in mycursor:\n",
    "    print(x)"
   ]
  },
  {
   "cell_type": "code",
   "execution_count": 296,
   "metadata": {},
   "outputs": [
    {
     "data": {
      "text/html": [
       "<div>\n",
       "<style scoped>\n",
       "    .dataframe tbody tr th:only-of-type {\n",
       "        vertical-align: middle;\n",
       "    }\n",
       "\n",
       "    .dataframe tbody tr th {\n",
       "        vertical-align: top;\n",
       "    }\n",
       "\n",
       "    .dataframe thead th {\n",
       "        text-align: right;\n",
       "    }\n",
       "</style>\n",
       "<table border=\"1\" class=\"dataframe\">\n",
       "  <thead>\n",
       "    <tr style=\"text-align: right;\">\n",
       "      <th></th>\n",
       "      <th>id</th>\n",
       "      <th>patient_id</th>\n",
       "      <th>physician_id</th>\n",
       "      <th>drug_name</th>\n",
       "      <th>date</th>\n",
       "      <th>quantity</th>\n",
       "    </tr>\n",
       "  </thead>\n",
       "  <tbody>\n",
       "    <tr>\n",
       "      <th>0</th>\n",
       "      <td>1</td>\n",
       "      <td>478-34-0781</td>\n",
       "      <td>614-57-6885</td>\n",
       "      <td>Avafoxin</td>\n",
       "      <td>3/11/2023</td>\n",
       "      <td>90</td>\n",
       "    </tr>\n",
       "    <tr>\n",
       "      <th>1</th>\n",
       "      <td>2</td>\n",
       "      <td>758-08-7274</td>\n",
       "      <td>118-66-5958</td>\n",
       "      <td>Cleotrana</td>\n",
       "      <td>3/12/2023</td>\n",
       "      <td>10</td>\n",
       "    </tr>\n",
       "    <tr>\n",
       "      <th>2</th>\n",
       "      <td>3</td>\n",
       "      <td>758-08-7274</td>\n",
       "      <td>118-66-5958</td>\n",
       "      <td>Primalovir</td>\n",
       "      <td>4/11/2023</td>\n",
       "      <td>20</td>\n",
       "    </tr>\n",
       "    <tr>\n",
       "      <th>3</th>\n",
       "      <td>4</td>\n",
       "      <td>758-08-7274</td>\n",
       "      <td>118-66-5958</td>\n",
       "      <td>Glucozepam Amcipentin</td>\n",
       "      <td>5/13/2023</td>\n",
       "      <td>12</td>\n",
       "    </tr>\n",
       "    <tr>\n",
       "      <th>4</th>\n",
       "      <td>5</td>\n",
       "      <td>303-13-5928</td>\n",
       "      <td>571-13-9020</td>\n",
       "      <td>Olanzanafine</td>\n",
       "      <td>5/24/2023</td>\n",
       "      <td>25</td>\n",
       "    </tr>\n",
       "  </tbody>\n",
       "</table>\n",
       "</div>"
      ],
      "text/plain": [
       "   id   patient_id physician_id              drug_name       date  quantity\n",
       "0   1  478-34-0781  614-57-6885               Avafoxin  3/11/2023        90\n",
       "1   2  758-08-7274  118-66-5958              Cleotrana  3/12/2023        10\n",
       "2   3  758-08-7274  118-66-5958             Primalovir  4/11/2023        20\n",
       "3   4  758-08-7274  118-66-5958  Glucozepam Amcipentin  5/13/2023        12\n",
       "4   5  303-13-5928  571-13-9020           Olanzanafine  5/24/2023        25"
      ]
     },
     "execution_count": 296,
     "metadata": {},
     "output_type": "execute_result"
    }
   ],
   "source": [
    "#point the path to where in your hard drive you have stored the file prescriptions.csv\n",
    "data = pd.read_csv(\"prescriptions.csv\")\n",
    "data.head()"
   ]
  },
  {
   "cell_type": "code",
   "execution_count": 297,
   "metadata": {},
   "outputs": [
    {
     "data": {
      "text/plain": [
       "id               int64\n",
       "patient_id      object\n",
       "physician_id    object\n",
       "drug_name       object\n",
       "date            object\n",
       "quantity         int64\n",
       "dtype: object"
      ]
     },
     "execution_count": 297,
     "metadata": {},
     "output_type": "execute_result"
    }
   ],
   "source": [
    "data.dtypes"
   ]
  },
  {
   "cell_type": "code",
   "execution_count": 298,
   "metadata": {},
   "outputs": [
    {
     "name": "stdout",
     "output_type": "stream",
     "text": [
      "Record inserted\n",
      "Record inserted\n",
      "Record inserted\n",
      "Record inserted\n",
      "Record inserted\n",
      "Record inserted\n",
      "Record inserted\n",
      "Record inserted\n",
      "Record inserted\n",
      "Record inserted\n",
      "Record inserted\n",
      "Record inserted\n",
      "Record inserted\n",
      "Record inserted\n",
      "Record inserted\n",
      "Record inserted\n"
     ]
    }
   ],
   "source": [
    "for i,row in data.iterrows():\n",
    "            sql = \"INSERT INTO prescriptions VALUES (%s,%s,%s,%s,%s,%s)\"\n",
    "            mycursor.execute(sql, tuple(row))\n",
    "            print(\"Record inserted\")\n",
    "            # the connection is not autocommitted by default, so we \n",
    "            # must commit to save our changes\n",
    "            mydb.commit()"
   ]
  },
  {
   "cell_type": "code",
   "execution_count": 299,
   "metadata": {},
   "outputs": [],
   "source": [
    "query = \"SELECT * FROM prescriptions\"\n",
    "mycursor.execute(query)"
   ]
  },
  {
   "cell_type": "code",
   "execution_count": 300,
   "metadata": {},
   "outputs": [
    {
     "name": "stdout",
     "output_type": "stream",
     "text": [
      "(1, '478-34-0781', '614-57-6885', 'Avafoxin', '3/11/2023', 90)\n",
      "(2, '758-08-7274', '118-66-5958', 'Cleotrana', '3/12/2023', 10)\n",
      "(3, '758-08-7274', '118-66-5958', 'Primalovir', '4/11/2023', 20)\n",
      "(4, '758-08-7274', '118-66-5958', 'Glucozepam Amcipentin', '5/13/2023', 12)\n",
      "(5, '303-13-5928', '571-13-9020', 'Olanzanafine', '5/24/2023', 25)\n",
      "(6, '303-13-5928', '571-13-9020', 'Primalovir', '5/24/2023', 16)\n",
      "(7, '303-13-5928', '571-13-9020', 'Abnazole Toleluble', '5/24/2023', 5)\n",
      "(8, '478-34-0781', '614-57-6885', 'Avafoxin', '6/14/2023', 60)\n",
      "(9, '303-13-5928', '571-13-9020', 'Glucozepam Amcipentin', '6/22/2023', 3)\n",
      "(10, '501-47-2038', '156-28-1945', 'Cleotrana', '7/18/2023', 20)\n",
      "(11, '777-39-3296', '718-27-0905', 'Dantopex Quixilinum', '8/2/2023', 1)\n",
      "(12, '501-47-2038', '156-28-1945', 'Cleotrana', '8/21/2023', 10)\n",
      "(13, '478-34-0781', '614-57-6885', 'Avafoxin', '9/17/2023', 30)\n",
      "(14, '478-34-0781', '614-57-6885', 'Quixiposide', '9/17/2023', 2)\n",
      "(15, '501-47-2038', '156-28-1945', 'Avafoxin', '9/22/2023', 15)\n",
      "(16, '501-47-2038', '156-28-1945', 'Kanulin', '9/22/2023', 8)\n"
     ]
    }
   ],
   "source": [
    "for x in mycursor:\n",
    "    print(x)"
   ]
  },
  {
   "cell_type": "code",
   "execution_count": 301,
   "metadata": {},
   "outputs": [
    {
     "data": {
      "text/html": [
       "<div>\n",
       "<style scoped>\n",
       "    .dataframe tbody tr th:only-of-type {\n",
       "        vertical-align: middle;\n",
       "    }\n",
       "\n",
       "    .dataframe tbody tr th {\n",
       "        vertical-align: top;\n",
       "    }\n",
       "\n",
       "    .dataframe thead th {\n",
       "        text-align: right;\n",
       "    }\n",
       "</style>\n",
       "<table border=\"1\" class=\"dataframe\">\n",
       "  <thead>\n",
       "    <tr style=\"text-align: right;\">\n",
       "      <th></th>\n",
       "      <th>id</th>\n",
       "      <th>patient_id</th>\n",
       "      <th>physician_id</th>\n",
       "      <th>drug_name</th>\n",
       "      <th>date</th>\n",
       "      <th>quantity</th>\n",
       "    </tr>\n",
       "  </thead>\n",
       "  <tbody>\n",
       "    <tr>\n",
       "      <th>0</th>\n",
       "      <td>1</td>\n",
       "      <td>478-34-0781</td>\n",
       "      <td>614-57-6885</td>\n",
       "      <td>Avafoxin</td>\n",
       "      <td>3/11/2023</td>\n",
       "      <td>90</td>\n",
       "    </tr>\n",
       "    <tr>\n",
       "      <th>1</th>\n",
       "      <td>2</td>\n",
       "      <td>758-08-7274</td>\n",
       "      <td>118-66-5958</td>\n",
       "      <td>Cleotrana</td>\n",
       "      <td>3/12/2023</td>\n",
       "      <td>10</td>\n",
       "    </tr>\n",
       "    <tr>\n",
       "      <th>2</th>\n",
       "      <td>3</td>\n",
       "      <td>758-08-7274</td>\n",
       "      <td>118-66-5958</td>\n",
       "      <td>Primalovir</td>\n",
       "      <td>4/11/2023</td>\n",
       "      <td>20</td>\n",
       "    </tr>\n",
       "    <tr>\n",
       "      <th>3</th>\n",
       "      <td>4</td>\n",
       "      <td>758-08-7274</td>\n",
       "      <td>118-66-5958</td>\n",
       "      <td>Glucozepam Amcipentin</td>\n",
       "      <td>5/13/2023</td>\n",
       "      <td>12</td>\n",
       "    </tr>\n",
       "    <tr>\n",
       "      <th>4</th>\n",
       "      <td>5</td>\n",
       "      <td>303-13-5928</td>\n",
       "      <td>571-13-9020</td>\n",
       "      <td>Olanzanafine</td>\n",
       "      <td>5/24/2023</td>\n",
       "      <td>25</td>\n",
       "    </tr>\n",
       "  </tbody>\n",
       "</table>\n",
       "</div>"
      ],
      "text/plain": [
       "   id   patient_id physician_id              drug_name       date  quantity\n",
       "0   1  478-34-0781  614-57-6885               Avafoxin  3/11/2023        90\n",
       "1   2  758-08-7274  118-66-5958              Cleotrana  3/12/2023        10\n",
       "2   3  758-08-7274  118-66-5958             Primalovir  4/11/2023        20\n",
       "3   4  758-08-7274  118-66-5958  Glucozepam Amcipentin  5/13/2023        12\n",
       "4   5  303-13-5928  571-13-9020           Olanzanafine  5/24/2023        25"
      ]
     },
     "execution_count": 301,
     "metadata": {},
     "output_type": "execute_result"
    }
   ],
   "source": [
    "#point the path to where in your hard drive you have stored the file prescriptions.csv\n",
    "data = pd.read_csv(\"prescriptions.csv\")\n",
    "data.head()"
   ]
  },
  {
   "cell_type": "code",
   "execution_count": 302,
   "metadata": {},
   "outputs": [
    {
     "data": {
      "text/html": [
       "<div>\n",
       "<style scoped>\n",
       "    .dataframe tbody tr th:only-of-type {\n",
       "        vertical-align: middle;\n",
       "    }\n",
       "\n",
       "    .dataframe tbody tr th {\n",
       "        vertical-align: top;\n",
       "    }\n",
       "\n",
       "    .dataframe thead th {\n",
       "        text-align: right;\n",
       "    }\n",
       "</style>\n",
       "<table border=\"1\" class=\"dataframe\">\n",
       "  <thead>\n",
       "    <tr style=\"text-align: right;\">\n",
       "      <th></th>\n",
       "      <th>drug_name_1</th>\n",
       "      <th>drug_name_2</th>\n",
       "    </tr>\n",
       "  </thead>\n",
       "  <tbody>\n",
       "    <tr>\n",
       "      <th>0</th>\n",
       "      <td>Cleotrana</td>\n",
       "      <td>Kanulin</td>\n",
       "    </tr>\n",
       "    <tr>\n",
       "      <th>1</th>\n",
       "      <td>Primalovir</td>\n",
       "      <td>Abnazole Toleluble</td>\n",
       "    </tr>\n",
       "    <tr>\n",
       "      <th>2</th>\n",
       "      <td>Primalovir</td>\n",
       "      <td>Olanzanafine</td>\n",
       "    </tr>\n",
       "    <tr>\n",
       "      <th>3</th>\n",
       "      <td>Olanzanafine</td>\n",
       "      <td>Glucozepam Amcipentin</td>\n",
       "    </tr>\n",
       "    <tr>\n",
       "      <th>4</th>\n",
       "      <td>Avafoxin</td>\n",
       "      <td>Kanulin</td>\n",
       "    </tr>\n",
       "  </tbody>\n",
       "</table>\n",
       "</div>"
      ],
      "text/plain": [
       "    drug_name_1            drug_name_2\n",
       "0     Cleotrana                Kanulin\n",
       "1    Primalovir     Abnazole Toleluble\n",
       "2    Primalovir           Olanzanafine\n",
       "3  Olanzanafine  Glucozepam Amcipentin\n",
       "4      Avafoxin                Kanulin"
      ]
     },
     "execution_count": 302,
     "metadata": {},
     "output_type": "execute_result"
    }
   ],
   "source": [
    "#point the path to where in your hard drive you have stored the file adverse_interactions.csv\n",
    "data = pd.read_csv(\"adverse_reactions.csv\")\n",
    "data.head()"
   ]
  },
  {
   "cell_type": "code",
   "execution_count": 303,
   "metadata": {},
   "outputs": [
    {
     "data": {
      "text/plain": [
       "drug_name_1    object\n",
       "drug_name_2    object\n",
       "dtype: object"
      ]
     },
     "execution_count": 303,
     "metadata": {},
     "output_type": "execute_result"
    }
   ],
   "source": [
    "data.dtypes"
   ]
  },
  {
   "cell_type": "code",
   "execution_count": 304,
   "metadata": {},
   "outputs": [
    {
     "name": "stdout",
     "output_type": "stream",
     "text": [
      "Record inserted\n",
      "Record inserted\n",
      "Record inserted\n",
      "Record inserted\n",
      "Record inserted\n",
      "Record inserted\n",
      "Record inserted\n",
      "Record inserted\n",
      "Record inserted\n"
     ]
    }
   ],
   "source": [
    "for i,row in data.iterrows():\n",
    "            sql = \"INSERT INTO adverse_interactions VALUES (%s,%s)\"\n",
    "            mycursor.execute(sql, tuple(row))\n",
    "            print(\"Record inserted\")\n",
    "            # the connection is not autocommitted by default, so we \n",
    "            # must commit to save our changes\n",
    "            mydb.commit()"
   ]
  },
  {
   "cell_type": "code",
   "execution_count": 305,
   "metadata": {},
   "outputs": [],
   "source": [
    "query = \"SELECT * FROM adverse_interactions\"\n",
    "mycursor.execute(query)"
   ]
  },
  {
   "cell_type": "code",
   "execution_count": 306,
   "metadata": {},
   "outputs": [
    {
     "name": "stdout",
     "output_type": "stream",
     "text": [
      "('Avafoxin', 'Kanulin')\n",
      "('Cleotrana', 'Avafoxin')\n",
      "('Cleotrana', 'Kanulin')\n",
      "('Cleotrana', 'Quixiposide')\n",
      "('Olanzanafine', 'Glucozepam Amcipentin')\n",
      "('Primalovir', 'Abnazole Toleluble')\n",
      "('Primalovir', 'Olanzanafine')\n",
      "('Quixiposide', 'Avafoxin')\n",
      "('Quixiposide', 'Dantopex Quixilinum')\n"
     ]
    }
   ],
   "source": [
    "for x in mycursor:\n",
    "    print(x)"
   ]
  },
  {
   "cell_type": "code",
   "execution_count": 307,
   "metadata": {},
   "outputs": [
    {
     "data": {
      "text/html": [
       "<div>\n",
       "<style scoped>\n",
       "    .dataframe tbody tr th:only-of-type {\n",
       "        vertical-align: middle;\n",
       "    }\n",
       "\n",
       "    .dataframe tbody tr th {\n",
       "        vertical-align: top;\n",
       "    }\n",
       "\n",
       "    .dataframe thead th {\n",
       "        text-align: right;\n",
       "    }\n",
       "</style>\n",
       "<table border=\"1\" class=\"dataframe\">\n",
       "  <thead>\n",
       "    <tr style=\"text-align: right;\">\n",
       "      <th></th>\n",
       "      <th>pharmacy_id</th>\n",
       "      <th>prescription_id</th>\n",
       "      <th>date</th>\n",
       "      <th>cost</th>\n",
       "    </tr>\n",
       "  </thead>\n",
       "  <tbody>\n",
       "    <tr>\n",
       "      <th>0</th>\n",
       "      <td>1</td>\n",
       "      <td>3</td>\n",
       "      <td>3/15/2023</td>\n",
       "      <td>60.53</td>\n",
       "    </tr>\n",
       "    <tr>\n",
       "      <th>1</th>\n",
       "      <td>3</td>\n",
       "      <td>4</td>\n",
       "      <td>5/16/2023</td>\n",
       "      <td>41.50</td>\n",
       "    </tr>\n",
       "    <tr>\n",
       "      <th>2</th>\n",
       "      <td>1</td>\n",
       "      <td>2</td>\n",
       "      <td>3/12/2023</td>\n",
       "      <td>18.00</td>\n",
       "    </tr>\n",
       "    <tr>\n",
       "      <th>3</th>\n",
       "      <td>8</td>\n",
       "      <td>1</td>\n",
       "      <td>3/12/2023</td>\n",
       "      <td>46.53</td>\n",
       "    </tr>\n",
       "    <tr>\n",
       "      <th>4</th>\n",
       "      <td>10</td>\n",
       "      <td>5</td>\n",
       "      <td>5/26/2023</td>\n",
       "      <td>47.50</td>\n",
       "    </tr>\n",
       "  </tbody>\n",
       "</table>\n",
       "</div>"
      ],
      "text/plain": [
       "   pharmacy_id  prescription_id       date   cost\n",
       "0            1                3  3/15/2023  60.53\n",
       "1            3                4  5/16/2023  41.50\n",
       "2            1                2  3/12/2023  18.00\n",
       "3            8                1  3/12/2023  46.53\n",
       "4           10                5  5/26/2023  47.50"
      ]
     },
     "execution_count": 307,
     "metadata": {},
     "output_type": "execute_result"
    }
   ],
   "source": [
    "#point the path to where in your hard drive you have stored the file pharmacy_fills.csv\n",
    "data = pd.read_csv(\"pharmacy_fills.csv\")\n",
    "data.head()"
   ]
  },
  {
   "cell_type": "code",
   "execution_count": 308,
   "metadata": {},
   "outputs": [
    {
     "data": {
      "text/plain": [
       "pharmacy_id          int64\n",
       "prescription_id      int64\n",
       "date                object\n",
       "cost               float64\n",
       "dtype: object"
      ]
     },
     "execution_count": 308,
     "metadata": {},
     "output_type": "execute_result"
    }
   ],
   "source": [
    "data.dtypes"
   ]
  },
  {
   "cell_type": "code",
   "execution_count": 309,
   "metadata": {},
   "outputs": [
    {
     "name": "stdout",
     "output_type": "stream",
     "text": [
      "Record inserted\n",
      "Record inserted\n",
      "Record inserted\n",
      "Record inserted\n",
      "Record inserted\n",
      "Record inserted\n",
      "Record inserted\n",
      "Record inserted\n",
      "Record inserted\n",
      "Record inserted\n",
      "Record inserted\n",
      "Record inserted\n",
      "Record inserted\n",
      "Record inserted\n",
      "Record inserted\n",
      "Record inserted\n"
     ]
    }
   ],
   "source": [
    "for i,row in data.iterrows():\n",
    "            sql = \"INSERT INTO pharmacy_fills VALUES (%s,%s,%s,%s)\"\n",
    "            mycursor.execute(sql, tuple(row))\n",
    "            print(\"Record inserted\")\n",
    "            # the connection is not autocommitted by default, so we \n",
    "            # must commit to save our changes\n",
    "            mydb.commit()"
   ]
  },
  {
   "cell_type": "code",
   "execution_count": 310,
   "metadata": {},
   "outputs": [],
   "source": [
    "query = \"SELECT * FROM pharmacy_fills\"\n",
    "mycursor.execute(query)"
   ]
  },
  {
   "cell_type": "code",
   "execution_count": 311,
   "metadata": {},
   "outputs": [
    {
     "name": "stdout",
     "output_type": "stream",
     "text": [
      "(8, 1, '3/12/2023', Decimal('46.53'))\n",
      "(1, 2, '3/12/2023', Decimal('18.00'))\n",
      "(1, 3, '3/15/2023', Decimal('60.53'))\n",
      "(3, 4, '5/16/2023', Decimal('41.50'))\n",
      "(10, 5, '5/26/2023', Decimal('47.50'))\n",
      "(7, 6, '5/24/2023', Decimal('92.10'))\n",
      "(5, 7, '5/28/2023', Decimal('41.65'))\n",
      "(5, 8, '6/15/2023', Decimal('94.60'))\n",
      "(11, 9, '6/22/2023', Decimal('31.00'))\n",
      "(2, 10, '7/22/2023', Decimal('14.55'))\n",
      "(12, 11, '8/4/2023', Decimal('92.00'))\n",
      "(14, 12, '8/21/2023', Decimal('42.85'))\n",
      "(6, 13, '9/19/2023', Decimal('31.65'))\n",
      "(7, 14, '9/19/2023', Decimal('11.00'))\n",
      "(9, 15, '9/25/2023', Decimal('46.80'))\n",
      "(4, 16, '9/22/2023', Decimal('42.75'))\n"
     ]
    }
   ],
   "source": [
    "for x in mycursor:\n",
    "    print(x)"
   ]
  },
  {
   "cell_type": "code",
   "execution_count": 312,
   "metadata": {},
   "outputs": [
    {
     "data": {
      "text/html": [
       "<div>\n",
       "<style scoped>\n",
       "    .dataframe tbody tr th:only-of-type {\n",
       "        vertical-align: middle;\n",
       "    }\n",
       "\n",
       "    .dataframe tbody tr th {\n",
       "        vertical-align: top;\n",
       "    }\n",
       "\n",
       "    .dataframe thead th {\n",
       "        text-align: right;\n",
       "    }\n",
       "</style>\n",
       "<table border=\"1\" class=\"dataframe\">\n",
       "  <thead>\n",
       "    <tr style=\"text-align: right;\">\n",
       "      <th></th>\n",
       "      <th>id</th>\n",
       "      <th>name</th>\n",
       "      <th>address</th>\n",
       "      <th>contact_phone</th>\n",
       "      <th>contact_name</th>\n",
       "    </tr>\n",
       "  </thead>\n",
       "  <tbody>\n",
       "    <tr>\n",
       "      <th>0</th>\n",
       "      <td>1</td>\n",
       "      <td>Goodrx</td>\n",
       "      <td>123 Main St, San Francisco, CA</td>\n",
       "      <td>123-456-7890</td>\n",
       "      <td>Holly Jolly</td>\n",
       "    </tr>\n",
       "    <tr>\n",
       "      <th>1</th>\n",
       "      <td>2</td>\n",
       "      <td>PHARMASEE</td>\n",
       "      <td>456 Elm St, New York, NY</td>\n",
       "      <td>234-567-8901</td>\n",
       "      <td>Faker Maker</td>\n",
       "    </tr>\n",
       "    <tr>\n",
       "      <th>2</th>\n",
       "      <td>3</td>\n",
       "      <td>DRUGXO</td>\n",
       "      <td>789 Maple St, Los Angeles, CA</td>\n",
       "      <td>345-678-9012</td>\n",
       "      <td>Silly Putty</td>\n",
       "    </tr>\n",
       "    <tr>\n",
       "      <th>3</th>\n",
       "      <td>4</td>\n",
       "      <td>Pharmachoice</td>\n",
       "      <td>101 Pine St, Chicago, IL</td>\n",
       "      <td>456-789-0123</td>\n",
       "      <td>Connie Honey</td>\n",
       "    </tr>\n",
       "    <tr>\n",
       "      <th>4</th>\n",
       "      <td>5</td>\n",
       "      <td>Castox</td>\n",
       "      <td>234 Oak St, Houston, TX</td>\n",
       "      <td>567-890-1234</td>\n",
       "      <td>Laxmi Kant Sheth</td>\n",
       "    </tr>\n",
       "  </tbody>\n",
       "</table>\n",
       "</div>"
      ],
      "text/plain": [
       "   id          name                         address contact_phone  \\\n",
       "0   1        Goodrx  123 Main St, San Francisco, CA  123-456-7890   \n",
       "1   2     PHARMASEE        456 Elm St, New York, NY  234-567-8901   \n",
       "2   3        DRUGXO   789 Maple St, Los Angeles, CA  345-678-9012   \n",
       "3   4  Pharmachoice        101 Pine St, Chicago, IL  456-789-0123   \n",
       "4   5        Castox         234 Oak St, Houston, TX  567-890-1234   \n",
       "\n",
       "       contact_name  \n",
       "0       Holly Jolly  \n",
       "1       Faker Maker  \n",
       "2       Silly Putty  \n",
       "3      Connie Honey  \n",
       "4  Laxmi Kant Sheth  "
      ]
     },
     "execution_count": 312,
     "metadata": {},
     "output_type": "execute_result"
    }
   ],
   "source": [
    "#point the path to where in your hard drive you have stored the file companies.csv\n",
    "data = pd.read_csv(\"companies.csv\")\n",
    "data.head()"
   ]
  },
  {
   "cell_type": "code",
   "execution_count": 313,
   "metadata": {},
   "outputs": [
    {
     "data": {
      "text/plain": [
       "id                int64\n",
       "name             object\n",
       "address          object\n",
       "contact_phone    object\n",
       "contact_name     object\n",
       "dtype: object"
      ]
     },
     "execution_count": 313,
     "metadata": {},
     "output_type": "execute_result"
    }
   ],
   "source": [
    "data.dtypes"
   ]
  },
  {
   "cell_type": "code",
   "execution_count": 314,
   "metadata": {},
   "outputs": [
    {
     "name": "stdout",
     "output_type": "stream",
     "text": [
      "Record inserted\n",
      "Record inserted\n",
      "Record inserted\n",
      "Record inserted\n",
      "Record inserted\n",
      "Record inserted\n",
      "Record inserted\n",
      "Record inserted\n",
      "Record inserted\n",
      "Record inserted\n"
     ]
    }
   ],
   "source": [
    "for i,row in data.iterrows():\n",
    "            sql = \"INSERT INTO companies VALUES (%s,%s,%s,%s,%s)\"\n",
    "            mycursor.execute(sql, tuple(row))\n",
    "            print(\"Record inserted\")\n",
    "            # the connection is not autocommitted by default, so we \n",
    "            # must commit to save our changes\n",
    "            mydb.commit()"
   ]
  },
  {
   "cell_type": "code",
   "execution_count": 315,
   "metadata": {},
   "outputs": [],
   "source": [
    "query = \"SELECT * FROM companies\"\n",
    "mycursor.execute(query)"
   ]
  },
  {
   "cell_type": "code",
   "execution_count": 316,
   "metadata": {},
   "outputs": [
    {
     "name": "stdout",
     "output_type": "stream",
     "text": [
      "(1, 'Goodrx', '123 Main St, San Francisco, CA', '123-456-7890', 'Holly Jolly')\n",
      "(2, 'PHARMASEE', '456 Elm St, New York, NY', '234-567-8901', 'Faker Maker')\n",
      "(3, 'DRUGXO', '789 Maple St, Los Angeles, CA', '345-678-9012', 'Silly Putty')\n",
      "(4, 'Pharmachoice', '101 Pine St, Chicago, IL', '456-789-0123', 'Connie Honey')\n",
      "(5, 'Castox', '234 Oak St, Houston, TX', '567-890-1234', 'Laxmi Kant Sheth')\n",
      "(6, 'Doktera', '567 Cedar St, Philadelphia, PA', '678-901-2345', 'I.P. Green')\n",
      "(7, 'Lipdrugz', '890 Birch St, Phoenix, AZ', '789-012-3456', 'Boris Kotchakoff')\n",
      "(8, 'Nurfarma', '123 Fir St, San Antonio, TX', '890-123-4567', 'Wu Liu')\n",
      "(9, 'Munimed', '456 Redwood St, San Diego, CA', '901-234-5678', 'Kim Park')\n",
      "(10, 'Arkmed', '789 Sequoia St, Dallas, TX', '012-345-6789', 'James Bond')\n"
     ]
    }
   ],
   "source": [
    "for x in mycursor:\n",
    "    print(x)"
   ]
  },
  {
   "cell_type": "code",
   "execution_count": 317,
   "metadata": {},
   "outputs": [
    {
     "data": {
      "text/html": [
       "<div>\n",
       "<style scoped>\n",
       "    .dataframe tbody tr th:only-of-type {\n",
       "        vertical-align: middle;\n",
       "    }\n",
       "\n",
       "    .dataframe tbody tr th {\n",
       "        vertical-align: top;\n",
       "    }\n",
       "\n",
       "    .dataframe thead th {\n",
       "        text-align: right;\n",
       "    }\n",
       "</style>\n",
       "<table border=\"1\" class=\"dataframe\">\n",
       "  <thead>\n",
       "    <tr style=\"text-align: right;\">\n",
       "      <th></th>\n",
       "      <th>Contract_Id</th>\n",
       "      <th>drug</th>\n",
       "      <th>dosage</th>\n",
       "      <th>pharmacy_id</th>\n",
       "      <th>pharm_company_id</th>\n",
       "      <th>quantity</th>\n",
       "      <th>date</th>\n",
       "      <th>price</th>\n",
       "    </tr>\n",
       "  </thead>\n",
       "  <tbody>\n",
       "    <tr>\n",
       "      <th>0</th>\n",
       "      <td>1</td>\n",
       "      <td>Cleotrana</td>\n",
       "      <td>50</td>\n",
       "      <td>5</td>\n",
       "      <td>10</td>\n",
       "      <td>40</td>\n",
       "      <td>10/3/2023</td>\n",
       "      <td>100.0</td>\n",
       "    </tr>\n",
       "    <tr>\n",
       "      <th>1</th>\n",
       "      <td>2</td>\n",
       "      <td>Primalovir</td>\n",
       "      <td>500</td>\n",
       "      <td>5</td>\n",
       "      <td>10</td>\n",
       "      <td>20</td>\n",
       "      <td>9/26/2023</td>\n",
       "      <td>40.5</td>\n",
       "    </tr>\n",
       "    <tr>\n",
       "      <th>2</th>\n",
       "      <td>3</td>\n",
       "      <td>Kanulin</td>\n",
       "      <td>1000</td>\n",
       "      <td>4</td>\n",
       "      <td>9</td>\n",
       "      <td>20</td>\n",
       "      <td>9/20/2023</td>\n",
       "      <td>10.5</td>\n",
       "    </tr>\n",
       "    <tr>\n",
       "      <th>3</th>\n",
       "      <td>4</td>\n",
       "      <td>Olanzanafine</td>\n",
       "      <td>50</td>\n",
       "      <td>6</td>\n",
       "      <td>3</td>\n",
       "      <td>80</td>\n",
       "      <td>9/24/2023</td>\n",
       "      <td>150.0</td>\n",
       "    </tr>\n",
       "    <tr>\n",
       "      <th>4</th>\n",
       "      <td>5</td>\n",
       "      <td>Avafoxin</td>\n",
       "      <td>5</td>\n",
       "      <td>15</td>\n",
       "      <td>5</td>\n",
       "      <td>30</td>\n",
       "      <td>9/29/2023</td>\n",
       "      <td>18.0</td>\n",
       "    </tr>\n",
       "  </tbody>\n",
       "</table>\n",
       "</div>"
      ],
      "text/plain": [
       "   Contract_Id          drug  dosage  pharmacy_id  pharm_company_id  quantity  \\\n",
       "0            1     Cleotrana      50            5                10        40   \n",
       "1            2    Primalovir     500            5                10        20   \n",
       "2            3       Kanulin    1000            4                 9        20   \n",
       "3            4  Olanzanafine      50            6                 3        80   \n",
       "4            5      Avafoxin       5           15                 5        30   \n",
       "\n",
       "        date  price  \n",
       "0  10/3/2023  100.0  \n",
       "1  9/26/2023   40.5  \n",
       "2  9/20/2023   10.5  \n",
       "3  9/24/2023  150.0  \n",
       "4  9/29/2023   18.0  "
      ]
     },
     "execution_count": 317,
     "metadata": {},
     "output_type": "execute_result"
    }
   ],
   "source": [
    "#point the path to where in your hard drive you have stored the file contracts.csv\n",
    "data = pd.read_csv(\"contracts.csv\")\n",
    "data.head()"
   ]
  },
  {
   "cell_type": "code",
   "execution_count": 318,
   "metadata": {},
   "outputs": [
    {
     "data": {
      "text/plain": [
       "Contract_Id           int64\n",
       "drug                 object\n",
       "dosage                int64\n",
       "pharmacy_id           int64\n",
       "pharm_company_id      int64\n",
       "quantity              int64\n",
       "date                 object\n",
       "price               float64\n",
       "dtype: object"
      ]
     },
     "execution_count": 318,
     "metadata": {},
     "output_type": "execute_result"
    }
   ],
   "source": [
    "data.dtypes"
   ]
  },
  {
   "cell_type": "code",
   "execution_count": 319,
   "metadata": {},
   "outputs": [
    {
     "name": "stdout",
     "output_type": "stream",
     "text": [
      "Record inserted\n",
      "Record inserted\n",
      "Record inserted\n",
      "Record inserted\n",
      "Record inserted\n",
      "Record inserted\n",
      "Record inserted\n",
      "Record inserted\n",
      "Record inserted\n",
      "Record inserted\n",
      "Record inserted\n",
      "Record inserted\n",
      "Record inserted\n",
      "Record inserted\n",
      "Record inserted\n",
      "Record inserted\n"
     ]
    }
   ],
   "source": [
    "for i,row in data.iterrows():\n",
    "            sql = \"INSERT INTO contracts VALUES (%s,%s,%s,%s,%s,%s,%s,%s)\"\n",
    "            mycursor.execute(sql, tuple(row))\n",
    "            print(\"Record inserted\")\n",
    "            # the connection is not autocommitted by default, so we \n",
    "            # must commit to save our changes\n",
    "            mydb.commit()"
   ]
  },
  {
   "cell_type": "code",
   "execution_count": 320,
   "metadata": {},
   "outputs": [],
   "source": [
    "query = \"SELECT * FROM contracts\"\n",
    "mycursor.execute(query)"
   ]
  },
  {
   "cell_type": "code",
   "execution_count": 321,
   "metadata": {},
   "outputs": [
    {
     "name": "stdout",
     "output_type": "stream",
     "text": [
      "(1, 'Cleotrana', 50, 5, 10, 40, '10/3/2023', '100.0')\n",
      "(2, 'Primalovir', 500, 5, 10, 20, '9/26/2023', '40.5')\n",
      "(3, 'Kanulin', 1000, 4, 9, 20, '9/20/2023', '10.5')\n",
      "(4, 'Olanzanafine', 50, 6, 3, 80, '9/24/2023', '150.0')\n",
      "(5, 'Avafoxin', 5, 15, 5, 30, '9/29/2023', '18.0')\n",
      "(6, 'Quixiposide', 25, 5, 1, 30, '10/2/2023', '12.0')\n",
      "(7, 'Glucozepam Amcipentin', 20, 10, 2, 80, '9/27/2023', '145.0')\n",
      "(8, 'Divisporine Acetaclotide', 15, 12, 9, 30, '10/2/2023', '42.0')\n",
      "(9, 'Abnazole Toleluble', 30, 14, 6, 40, '9/21/2023', '45.0')\n",
      "(10, 'Dantopex Quixilinum', 100, 14, 8, 20, '9/26/2023', '20.0')\n",
      "(11, 'Olanzanafine', 50, 1, 3, 90, '9/30/2023', '160.0')\n",
      "(12, 'Olanzanafine', 75, 2, 3, 40, '9/23/2023', '60.0')\n",
      "(13, 'Olanzanafine', 75, 3, 3, 20, '9/23/2023', '35.0')\n",
      "(14, 'Glucozepam Amcipentin', 40, 8, 2, 20, '10/2/2023', '14.0')\n",
      "(15, 'Divisporine Acetaclotide', 10, 9, 9, 40, '9/28/2023', '68.0')\n",
      "(16, 'Dantopex Quixilinum', 100, 13, 8, 50, '9/30/2023', '50.0')\n"
     ]
    }
   ],
   "source": [
    "for x in mycursor:\n",
    "    print(x)"
   ]
  },
  {
   "cell_type": "markdown",
   "metadata": {},
   "source": [
    "## Stored Procedure and Trigger"
   ]
  },
  {
   "cell_type": "code",
   "execution_count": 322,
   "metadata": {},
   "outputs": [
    {
     "name": "stdout",
     "output_type": "stream",
     "text": [
      "('Cardiology', 4)\n"
     ]
    }
   ],
   "source": [
    "mycursor.execute(\"DROP PROCEDURE IF EXISTS physicianinfo\")\n",
    "\n",
    "query_procedure = '''\n",
    "CREATE PROCEDURE physicianinfo (IN id VARCHAR(128))\n",
    "BEGIN\n",
    "\tSELECT primary_specialty,experience_years\n",
    "    FROM physicians\n",
    "    WHERE physicians.ssn = id;\n",
    "END\n",
    "'''\n",
    "mycursor.execute(query_procedure)\n",
    "\n",
    "# Test the procedure\n",
    "mycursor.callproc(\"physicianinfo\",('614-57-6885',))\n",
    "\n",
    "for result in mycursor.stored_results():\n",
    "    for row in result.fetchall():\n",
    "        print(row)"
   ]
  },
  {
   "cell_type": "markdown",
   "metadata": {},
   "source": [
    "#### Trigger"
   ]
  },
  {
   "cell_type": "code",
   "execution_count": 323,
   "metadata": {},
   "outputs": [],
   "source": [
    "mycursor.execute(\"DROP TRIGGER IF EXISTS alert_addition\")\n",
    "\n",
    "query_trigger = '''\n",
    "\n",
    "CREATE TRIGGER alert_addition\n",
    "AFTER INSERT ON prescriptions\n",
    "FOR EACH ROW\n",
    "BEGIN\n",
    "    DECLARE earlier_drug VARCHAR(128);\n",
    "    DECLARE interaction_exists INT;\n",
    "\n",
    "    -- Find an earlier prescribed drug that interacts with the new drug\n",
    "    SELECT p.drug_name INTO earlier_drug\n",
    "    FROM prescriptions p\n",
    "    JOIN adverse_interactions ai ON (p.drug_name = ai.drug_name AND NEW.drug_name = ai.drug_name_2)\n",
    "                              OR (p.drug_name = ai.drug_name_2 AND NEW.drug_name = ai.drug_name)\n",
    "    WHERE p.patient_id = NEW.patient_id\n",
    "      AND p.date <= NEW.date\n",
    "    LIMIT 1;\n",
    "\n",
    "    -- Check if an interaction exists\n",
    "    SET interaction_exists = (earlier_drug IS NOT NULL);\n",
    "\n",
    "    -- If an interaction exists, insert an alert\n",
    "    IF interaction_exists THEN\n",
    "        INSERT INTO alerts (patient_id, physician_id, alert_date, drug1, drug2)\n",
    "        VALUES (\n",
    "            NEW.patient_id,\n",
    "            NEW.physician_id,\n",
    "            NEW.date,\n",
    "            earlier_drug,\n",
    "            NEW.drug_name\n",
    "        );\n",
    "    END IF;\n",
    "END\n",
    ";\n",
    "'''\n",
    "mycursor.execute(query_trigger)\n",
    "\n",
    "# # Test the trigger\n",
    "# for x in mycursor:\n",
    "#     print(x)\n",
    "# results = mycursor.fetchall()"
   ]
  },
  {
   "cell_type": "code",
   "execution_count": 324,
   "metadata": {},
   "outputs": [
    {
     "name": "stdout",
     "output_type": "stream",
     "text": [
      "('501-47-2038', '156-28-1945', '9/22/2023', 'Avafoxin', 'Kanulin')\n",
      "('501-47-2038', '156-28-1945', '9/22/2023', 'Cleotrana', 'Avafoxin')\n",
      "('303-13-5928', '571-13-9020', '5/24/2023', 'Olanzanafine', 'Primalovir')\n",
      "('303-13-5928', '571-13-9020', '5/24/2023', 'Primalovir', 'Abnazole Toleluble')\n",
      "('303-13-5928', '571-13-9020', '6/22/2023', 'Olanzanafine', 'Glucozepam Amcipentin')\n",
      "('478-34-0781', '614-57-6885', '9/17/2023', 'Avafoxin', 'Quixiposide')\n"
     ]
    }
   ],
   "source": [
    "# Test the trigger\n",
    "mycursor.execute(\"DELETE FROM alerts\")\n",
    "mycursor.execute(\"DELETE FROM pharmacy_fills\")\n",
    "mycursor.execute(\"DELETE FROM prescriptions\")\n",
    "\n",
    "# Repopulate the tables\n",
    "#point the path to where in your hard drive you have stored the file prescriptions.csv\n",
    "data = pd.read_csv(\"prescriptions.csv\")\n",
    "data.head()\n",
    "\n",
    "for i,row in data.iterrows():\n",
    "            sql = \"INSERT INTO prescriptions VALUES (%s,%s,%s,%s,%s,%s)\"\n",
    "            mycursor.execute(sql, tuple(row))\n",
    "            # the connection is not autocommitted by default, so we \n",
    "            # must commit to save our changes\n",
    "            mydb.commit()\n",
    "\n",
    "#point the path to where in your hard drive you have stored the file pharmacy_fills.csv\n",
    "data_pf = pd.read_csv(\"pharmacy_fills.csv\")\n",
    "data_pf.head()\n",
    "\n",
    "for i,row in data_pf.iterrows():\n",
    "            sql = \"INSERT INTO pharmacy_fills VALUES (%s,%s,%s,%s)\"\n",
    "            mycursor.execute(sql, tuple(row))\n",
    "            # print(\"Record inserted\")\n",
    "            # the connection is not autocommitted by default, so we \n",
    "            # must commit to save our changes\n",
    "            mydb.commit()\n",
    "\n",
    "# Trigger Execution\n",
    "\n",
    "query = \"SELECT * FROM alerts\"\n",
    "mycursor.execute(query)\n",
    "for x in mycursor:\n",
    "        print(x)\n",
    "\n"
   ]
  },
  {
   "cell_type": "markdown",
   "metadata": {},
   "source": [
    "## Queries"
   ]
  },
  {
   "cell_type": "markdown",
   "metadata": {},
   "source": [
    "Question 1: Find the physicians (ssn) who have most prescribed drugs which caused alerts (due to possible adverse interaction with a previously prescribed drug, not necessarily by the same physician)."
   ]
  },
  {
   "cell_type": "code",
   "execution_count": 325,
   "metadata": {},
   "outputs": [],
   "source": [
    "query1 = '''\n",
    "WITH alert_causing_prescriptions AS (\n",
    "    SELECT DISTINCT\n",
    "        p2.physician_id,\n",
    "        p2.id AS prescription_id\n",
    "    FROM \n",
    "        prescriptions p1\n",
    "    JOIN \n",
    "        prescriptions p2 ON p1.patient_id = p2.patient_id\n",
    "    JOIN\n",
    "        adverse_interactions ai \n",
    "        ON (ai.drug_name = p1.drug_name AND ai.drug_name_2 = p2.drug_name)\n",
    "        OR (ai.drug_name_2 = p1.drug_name AND ai.drug_name = p2.drug_name)\n",
    "    WHERE \n",
    "        p1.date < p2.date\n",
    "        AND p1.id <> p2.id\n",
    "),\n",
    "physician_alert_counts AS (\n",
    "    SELECT \n",
    "        physician_id,\n",
    "        COUNT(DISTINCT prescription_id) AS alert_count\n",
    "    FROM \n",
    "        alert_causing_prescriptions\n",
    "    GROUP BY \n",
    "        physician_id\n",
    ")\n",
    "SELECT \n",
    "    p.ssn,\n",
    "    pac.alert_count\n",
    "FROM \n",
    "    physicians p\n",
    "JOIN \n",
    "    physician_alert_counts pac ON p.ssn = pac.physician_id\n",
    "WHERE \n",
    "    pac.alert_count = (\n",
    "        SELECT MAX(alert_count)\n",
    "        FROM physician_alert_counts\n",
    "    )\n",
    "ORDER BY \n",
    "    p.ssn;\n",
    "         '''\n",
    "mycursor.execute(query1)"
   ]
  },
  {
   "cell_type": "code",
   "execution_count": 326,
   "metadata": {},
   "outputs": [
    {
     "name": "stdout",
     "output_type": "stream",
     "text": [
      "('156-28-1945', 2)\n"
     ]
    }
   ],
   "source": [
    "for x in mycursor:\n",
    "    print(x)"
   ]
  },
  {
   "cell_type": "markdown",
   "metadata": {},
   "source": [
    "Question 2: Find the physicians (ssn) who have prescribed two drugs to the same patient which have adverse interactions."
   ]
  },
  {
   "cell_type": "code",
   "execution_count": 327,
   "metadata": {},
   "outputs": [],
   "source": [
    "query2 = '''\n",
    "SELECT DISTINCT\n",
    "   (physician_id)\n",
    "FROM\n",
    "   alerts;\n",
    "         '''\n",
    "mycursor.execute(query2)"
   ]
  },
  {
   "cell_type": "code",
   "execution_count": 328,
   "metadata": {},
   "outputs": [
    {
     "name": "stdout",
     "output_type": "stream",
     "text": [
      "('156-28-1945',)\n",
      "('571-13-9020',)\n",
      "('614-57-6885',)\n"
     ]
    }
   ],
   "source": [
    "for x in mycursor:\n",
    "    print(x)"
   ]
  },
  {
   "cell_type": "markdown",
   "metadata": {},
   "source": [
    "Question 3: Find the physicians who have prescribed most drugs supplied by company DRUGXO."
   ]
  },
  {
   "cell_type": "code",
   "execution_count": 329,
   "metadata": {},
   "outputs": [],
   "source": [
    "query3 = '''\n",
    "SELECT \n",
    "    physicians.ssn,\n",
    "    COUNT(DISTINCT prescriptions.drug_name) AS prescribed_drugs_count\n",
    "FROM\n",
    "    physicians\n",
    "        INNER JOIN\n",
    "    prescriptions ON prescriptions.physician_id = physicians.ssn\n",
    "        INNER JOIN\n",
    "    drugs ON drugs.name = prescriptions.drug_name\n",
    "        INNER JOIN\n",
    "    contracts ON contracts.drug_name = drugs.name\n",
    "        INNER JOIN\n",
    "    companies ON companies.id = contracts.company_id\n",
    "WHERE\n",
    "    companies.name = 'DRUGXO'\n",
    "GROUP BY physicians.ssn\n",
    "ORDER BY prescribed_drugs_count DESC\n",
    "LIMIT 1;\n",
    "         '''\n",
    "mycursor.execute(query3)"
   ]
  },
  {
   "cell_type": "code",
   "execution_count": 330,
   "metadata": {},
   "outputs": [
    {
     "name": "stdout",
     "output_type": "stream",
     "text": [
      "('571-13-9020', 1)\n"
     ]
    }
   ],
   "source": [
    "for x in mycursor:\n",
    "    print(x)"
   ]
  },
  {
   "cell_type": "markdown",
   "metadata": {},
   "source": [
    "Question 4: For each drug supplied by company PHARMASEE display the price (per unit of quantity) charged by that company for that drug along with the average price charged for that drug (by companies, not pharmacies). Note: As it happens in the data we supplied each drug is supplied by only one company, but your query should not be based on that."
   ]
  },
  {
   "cell_type": "code",
   "execution_count": 331,
   "metadata": {},
   "outputs": [],
   "source": [
    "query4 = '''\n",
    "WITH avg_prices AS (\n",
    "    SELECT \n",
    "        drug_name,\n",
    "        AVG(price) AS avg_price\n",
    "    FROM \n",
    "        contracts\n",
    "    GROUP BY \n",
    "        drug_name\n",
    ")\n",
    "SELECT \n",
    "    c.drug_name,\n",
    "    c.price AS pharmasee_price,\n",
    "    ap.avg_price\n",
    "FROM \n",
    "    contracts c\n",
    "JOIN \n",
    "    companies co ON c.company_id = co.id\n",
    "JOIN \n",
    "    avg_prices ap ON c.drug_name = ap.drug_name\n",
    "WHERE \n",
    "    co.name = 'PHARMASEE';\n",
    "         '''\n",
    "mycursor.execute(query4)"
   ]
  },
  {
   "cell_type": "code",
   "execution_count": 332,
   "metadata": {},
   "outputs": [
    {
     "name": "stdout",
     "output_type": "stream",
     "text": [
      "('Glucozepam Amcipentin', '145.0', 79.5)\n",
      "('Glucozepam Amcipentin', '14.0', 79.5)\n"
     ]
    }
   ],
   "source": [
    "for x in mycursor:\n",
    "    print(x)"
   ]
  },
  {
   "cell_type": "markdown",
   "metadata": {},
   "source": [
    "Question 5: For each drug and for each pharmacy, find the percentage of the markup (per unit of quantity) for that drug by that pharmacy."
   ]
  },
  {
   "cell_type": "code",
   "execution_count": 333,
   "metadata": {},
   "outputs": [],
   "source": [
    "query5 = '''\n",
    "WITH drugpurchaseprice AS (\n",
    "    SELECT c.drug_name AS drug_name, c.pharmacy_id AS pharmacy, c.price/c.quantity AS contract_price\n",
    "    FROM contracts c\n",
    "    \n",
    "),\n",
    "pharmacyfillcost AS (\n",
    "\tSELECT pr.drug_name AS drug_name, pf.pharmacy_id AS pharmacy, pf.cost/pr.quantity AS fill_cost\n",
    "    FROM pharmacy_fills pf\n",
    "    INNER JOIN prescriptions pr\n",
    "    ON pr.id = pf.prescription_id\n",
    ")\n",
    "SELECT \n",
    "    dpp.drug_name,\n",
    "    dpp.pharmacy,\n",
    "    (pfc.fill_cost - dpp.contract_price)/dpp.contract_price * 100 AS percentage_markup\n",
    "FROM drugpurchaseprice dpp\n",
    "LEFT JOIN pharmacyfillcost pfc\n",
    "    ON dpp.drug_name = pfc.drug_name AND dpp.pharmacy = pfc.pharmacy;\n",
    "    '''\n",
    "mycursor.execute(query5)"
   ]
  },
  {
   "cell_type": "code",
   "execution_count": 334,
   "metadata": {},
   "outputs": [
    {
     "name": "stdout",
     "output_type": "stream",
     "text": [
      "('Cleotrana', 5, None)\n",
      "('Primalovir', 5, None)\n",
      "('Kanulin', 4, 917.8571428571427)\n",
      "('Olanzanafine', 6, None)\n",
      "('Avafoxin', 15, None)\n",
      "('Quixiposide', 5, None)\n",
      "('Glucozepam Amcipentin', 10, None)\n",
      "('Divisporine Acetaclotide', 12, None)\n",
      "('Abnazole Toleluble', 14, None)\n",
      "('Dantopex Quixilinum', 14, None)\n",
      "('Olanzanafine', 1, None)\n",
      "('Olanzanafine', 2, None)\n",
      "('Olanzanafine', 3, None)\n",
      "('Glucozepam Amcipentin', 8, None)\n",
      "('Divisporine Acetaclotide', 9, None)\n",
      "('Dantopex Quixilinum', 13, None)\n"
     ]
    }
   ],
   "source": [
    "for x in mycursor:\n",
    "    print(x)"
   ]
  },
  {
   "cell_type": "markdown",
   "metadata": {},
   "source": [
    "Question 6: For each drug, find the average time between when a patient was prescribed a drug and when the prescription was filled at a pharmacy. (You will need to extract the components of a date to compute this. mySQL provides functions for doing this and the official documentation here can help provide the appropriate functions: https://dev.mysql.com/doc/refman/8.4/en/date-and-time-functions.html Links to an external site.)."
   ]
  },
  {
   "cell_type": "code",
   "execution_count": 335,
   "metadata": {},
   "outputs": [],
   "source": [
    "query6 = '''\n",
    "SELECT \n",
    "    p.drug_name,\n",
    "    AVG(TIMESTAMPDIFF(HOUR,\n",
    "        STR_TO_DATE(p.date, '%m/%d/%Y'),\n",
    "        STR_TO_DATE(pf.date, '%m/%d/%Y'))) AS avg_hours_to_fill\n",
    "FROM\n",
    "    prescriptions p\n",
    "        JOIN\n",
    "    pharmacy_fills pf ON p.id = pf.prescription_id\n",
    "GROUP BY p.drug_name;\n",
    "    '''\n",
    "mycursor.execute(query6)"
   ]
  },
  {
   "cell_type": "code",
   "execution_count": 336,
   "metadata": {},
   "outputs": [
    {
     "name": "stdout",
     "output_type": "stream",
     "text": [
      "('Avafoxin', Decimal('42.0000'))\n",
      "('Cleotrana', Decimal('32.0000'))\n",
      "('Primalovir', Decimal('-324.0000'))\n",
      "('Glucozepam Amcipentin', Decimal('36.0000'))\n",
      "('Olanzanafine', Decimal('48.0000'))\n",
      "('Abnazole Toleluble', Decimal('96.0000'))\n",
      "('Dantopex Quixilinum', Decimal('48.0000'))\n",
      "('Quixiposide', Decimal('48.0000'))\n",
      "('Kanulin', Decimal('0.0000'))\n"
     ]
    }
   ],
   "source": [
    "for x in mycursor:\n",
    "    print(x)"
   ]
  },
  {
   "cell_type": "markdown",
   "metadata": {},
   "source": [
    "Question 7: For each pharmacy, find all the drugs that were prescribed to a patient and never filled at that pharmacy."
   ]
  },
  {
   "cell_type": "code",
   "execution_count": 337,
   "metadata": {},
   "outputs": [],
   "source": [
    "query7 = '''\n",
    "(SELECT p.id AS pharmacy_id, p.name AS pharmacy_name, pr.drug_name\n",
    " FROM pharmacies p\n",
    " CROSS JOIN prescriptions pr)\n",
    "EXCEPT\n",
    "(SELECT pf.pharmacy_id, p.name AS pharmacy_name, pr.drug_name\n",
    " FROM pharmacy_fills pf\n",
    " JOIN pharmacies p ON pf.pharmacy_id = p.id\n",
    " JOIN prescriptions pr ON pf.prescription_id = pr.id)\n",
    "ORDER BY pharmacy_id, drug_name;\n",
    "    '''\n",
    "mycursor.execute(query7)"
   ]
  },
  {
   "cell_type": "code",
   "execution_count": 338,
   "metadata": {},
   "outputs": [
    {
     "name": "stdout",
     "output_type": "stream",
     "text": [
      "(1, ' Springfield Pharmacy', 'Abnazole Toleluble')\n",
      "(1, ' Springfield Pharmacy', 'Avafoxin')\n",
      "(1, ' Springfield Pharmacy', 'Dantopex Quixilinum')\n",
      "(1, ' Springfield Pharmacy', 'Glucozepam Amcipentin')\n",
      "(1, ' Springfield Pharmacy', 'Kanulin')\n",
      "(1, ' Springfield Pharmacy', 'Olanzanafine')\n",
      "(1, ' Springfield Pharmacy', 'Quixiposide')\n",
      "(2, ' Peachtree Meds', 'Abnazole Toleluble')\n",
      "(2, ' Peachtree Meds', 'Avafoxin')\n",
      "(2, ' Peachtree Meds', 'Dantopex Quixilinum')\n",
      "(2, ' Peachtree Meds', 'Glucozepam Amcipentin')\n",
      "(2, ' Peachtree Meds', 'Kanulin')\n",
      "(2, ' Peachtree Meds', 'Olanzanafine')\n",
      "(2, ' Peachtree Meds', 'Primalovir')\n",
      "(2, ' Peachtree Meds', 'Quixiposide')\n",
      "(3, ' Lone Star Drugs', 'Abnazole Toleluble')\n",
      "(3, ' Lone Star Drugs', 'Avafoxin')\n",
      "(3, ' Lone Star Drugs', 'Cleotrana')\n",
      "(3, ' Lone Star Drugs', 'Dantopex Quixilinum')\n",
      "(3, ' Lone Star Drugs', 'Kanulin')\n",
      "(3, ' Lone Star Drugs', 'Olanzanafine')\n",
      "(3, ' Lone Star Drugs', 'Primalovir')\n",
      "(3, ' Lone Star Drugs', 'Quixiposide')\n",
      "(4, ' Mile High Meds', 'Abnazole Toleluble')\n",
      "(4, ' Mile High Meds', 'Avafoxin')\n",
      "(4, ' Mile High Meds', 'Cleotrana')\n",
      "(4, ' Mile High Meds', 'Dantopex Quixilinum')\n",
      "(4, ' Mile High Meds', 'Glucozepam Amcipentin')\n",
      "(4, ' Mile High Meds', 'Olanzanafine')\n",
      "(4, ' Mile High Meds', 'Primalovir')\n",
      "(4, ' Mile High Meds', 'Quixiposide')\n",
      "(5, ' Emerald City Pharmacy', 'Cleotrana')\n",
      "(5, ' Emerald City Pharmacy', 'Dantopex Quixilinum')\n",
      "(5, ' Emerald City Pharmacy', 'Glucozepam Amcipentin')\n",
      "(5, ' Emerald City Pharmacy', 'Kanulin')\n",
      "(5, ' Emerald City Pharmacy', 'Olanzanafine')\n",
      "(5, ' Emerald City Pharmacy', 'Primalovir')\n",
      "(5, ' Emerald City Pharmacy', 'Quixiposide')\n",
      "(6, ' Golden Gate Drugs', 'Abnazole Toleluble')\n",
      "(6, ' Golden Gate Drugs', 'Cleotrana')\n",
      "(6, ' Golden Gate Drugs', 'Dantopex Quixilinum')\n",
      "(6, ' Golden Gate Drugs', 'Glucozepam Amcipentin')\n",
      "(6, ' Golden Gate Drugs', 'Kanulin')\n",
      "(6, ' Golden Gate Drugs', 'Olanzanafine')\n",
      "(6, ' Golden Gate Drugs', 'Primalovir')\n",
      "(6, ' Golden Gate Drugs', 'Quixiposide')\n",
      "(7, ' Sunshine Pharmacy', 'Abnazole Toleluble')\n",
      "(7, ' Sunshine Pharmacy', 'Avafoxin')\n",
      "(7, ' Sunshine Pharmacy', 'Cleotrana')\n",
      "(7, ' Sunshine Pharmacy', 'Dantopex Quixilinum')\n",
      "(7, ' Sunshine Pharmacy', 'Glucozepam Amcipentin')\n",
      "(7, ' Sunshine Pharmacy', 'Kanulin')\n",
      "(7, ' Sunshine Pharmacy', 'Olanzanafine')\n",
      "(8, ' Liberty Meds', 'Abnazole Toleluble')\n",
      "(8, ' Liberty Meds', 'Cleotrana')\n",
      "(8, ' Liberty Meds', 'Dantopex Quixilinum')\n",
      "(8, ' Liberty Meds', 'Glucozepam Amcipentin')\n",
      "(8, ' Liberty Meds', 'Kanulin')\n",
      "(8, ' Liberty Meds', 'Olanzanafine')\n",
      "(8, ' Liberty Meds', 'Primalovir')\n",
      "(8, ' Liberty Meds', 'Quixiposide')\n",
      "(9, ' Lakeside Drugs', 'Abnazole Toleluble')\n",
      "(9, ' Lakeside Drugs', 'Cleotrana')\n",
      "(9, ' Lakeside Drugs', 'Dantopex Quixilinum')\n",
      "(9, ' Lakeside Drugs', 'Glucozepam Amcipentin')\n",
      "(9, ' Lakeside Drugs', 'Kanulin')\n",
      "(9, ' Lakeside Drugs', 'Olanzanafine')\n",
      "(9, ' Lakeside Drugs', 'Primalovir')\n",
      "(9, ' Lakeside Drugs', 'Quixiposide')\n",
      "(10, ' Desert Bloom Pharmacy', 'Abnazole Toleluble')\n",
      "(10, ' Desert Bloom Pharmacy', 'Avafoxin')\n",
      "(10, ' Desert Bloom Pharmacy', 'Cleotrana')\n",
      "(10, ' Desert Bloom Pharmacy', 'Dantopex Quixilinum')\n",
      "(10, ' Desert Bloom Pharmacy', 'Glucozepam Amcipentin')\n",
      "(10, ' Desert Bloom Pharmacy', 'Kanulin')\n",
      "(10, ' Desert Bloom Pharmacy', 'Primalovir')\n",
      "(10, ' Desert Bloom Pharmacy', 'Quixiposide')\n",
      "(11, ' Bayside Pharmacy', 'Abnazole Toleluble')\n",
      "(11, ' Bayside Pharmacy', 'Avafoxin')\n",
      "(11, ' Bayside Pharmacy', 'Cleotrana')\n",
      "(11, ' Bayside Pharmacy', 'Dantopex Quixilinum')\n",
      "(11, ' Bayside Pharmacy', 'Kanulin')\n",
      "(11, ' Bayside Pharmacy', 'Olanzanafine')\n",
      "(11, ' Bayside Pharmacy', 'Primalovir')\n",
      "(11, ' Bayside Pharmacy', 'Quixiposide')\n",
      "(12, ' Capital Meds', 'Abnazole Toleluble')\n",
      "(12, ' Capital Meds', 'Avafoxin')\n",
      "(12, ' Capital Meds', 'Cleotrana')\n",
      "(12, ' Capital Meds', 'Glucozepam Amcipentin')\n",
      "(12, ' Capital Meds', 'Kanulin')\n",
      "(12, ' Capital Meds', 'Olanzanafine')\n",
      "(12, ' Capital Meds', 'Primalovir')\n",
      "(12, ' Capital Meds', 'Quixiposide')\n",
      "(13, ' Windy City Pharmacy', 'Abnazole Toleluble')\n",
      "(13, ' Windy City Pharmacy', 'Avafoxin')\n",
      "(13, ' Windy City Pharmacy', 'Cleotrana')\n",
      "(13, ' Windy City Pharmacy', 'Dantopex Quixilinum')\n",
      "(13, ' Windy City Pharmacy', 'Glucozepam Amcipentin')\n",
      "(13, ' Windy City Pharmacy', 'Kanulin')\n",
      "(13, ' Windy City Pharmacy', 'Olanzanafine')\n",
      "(13, ' Windy City Pharmacy', 'Primalovir')\n",
      "(13, ' Windy City Pharmacy', 'Quixiposide')\n",
      "(14, ' Beantown Drugs', 'Abnazole Toleluble')\n",
      "(14, ' Beantown Drugs', 'Avafoxin')\n",
      "(14, ' Beantown Drugs', 'Dantopex Quixilinum')\n",
      "(14, ' Beantown Drugs', 'Glucozepam Amcipentin')\n",
      "(14, ' Beantown Drugs', 'Kanulin')\n",
      "(14, ' Beantown Drugs', 'Olanzanafine')\n",
      "(14, ' Beantown Drugs', 'Primalovir')\n",
      "(14, ' Beantown Drugs', 'Quixiposide')\n",
      "(15, ' Gateway Meds', 'Abnazole Toleluble')\n",
      "(15, ' Gateway Meds', 'Avafoxin')\n",
      "(15, ' Gateway Meds', 'Cleotrana')\n",
      "(15, ' Gateway Meds', 'Dantopex Quixilinum')\n",
      "(15, ' Gateway Meds', 'Glucozepam Amcipentin')\n",
      "(15, ' Gateway Meds', 'Kanulin')\n",
      "(15, ' Gateway Meds', 'Olanzanafine')\n",
      "(15, ' Gateway Meds', 'Primalovir')\n",
      "(15, ' Gateway Meds', 'Quixiposide')\n"
     ]
    }
   ],
   "source": [
    "for x in mycursor:\n",
    "    print(x)"
   ]
  }
 ],
 "metadata": {
  "kernelspec": {
   "display_name": "data1050",
   "language": "python",
   "name": "python3"
  },
  "language_info": {
   "codemirror_mode": {
    "name": "ipython",
    "version": 3
   },
   "file_extension": ".py",
   "mimetype": "text/x-python",
   "name": "python",
   "nbconvert_exporter": "python",
   "pygments_lexer": "ipython3",
   "version": "3.13.0"
  }
 },
 "nbformat": 4,
 "nbformat_minor": 2
}
